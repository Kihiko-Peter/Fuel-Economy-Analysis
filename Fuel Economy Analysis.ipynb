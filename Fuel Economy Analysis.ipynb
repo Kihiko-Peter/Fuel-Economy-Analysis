{
 "cells": [
  {
   "cell_type": "markdown",
   "id": "37993533",
   "metadata": {},
   "source": [
    "# Fuel Economy Analysis\n"
   ]
  },
  {
   "cell_type": "markdown",
   "id": "44607853",
   "metadata": {},
   "source": [
    "## 1. Defining the Question."
   ]
  },
  {
   "cell_type": "markdown",
   "id": "1eeb01f3",
   "metadata": {},
   "source": [
    "## (a) Specifying the Analytical Question.\n",
    "\n",
    "Q1: Are more unique models using alternative fuels in 2018 compared to 2008? By how much?\n",
    "\n",
    "Q2: How much have vehicle classes improved in fuel economy (increased in mpg)?\n",
    "\n",
    "Q3: What are the characteristics of SmartWay vehicles? Have they changed over time? (mpg, greenhouse gas)\n",
    "\n",
    "Q4: What features are associated with better fuel economy (mpg)?\n",
    "\n",
    "Q5: For all of the models that were produced in 2008 that are still being produced in 2018, how much has the mpg improved and which vehicle improved the most?\n"
   ]
  },
  {
   "cell_type": "markdown",
   "id": "dbef2fe2",
   "metadata": {},
   "source": [
    "## (b) Understanding the context\n",
    "\n",
    "The test data used to determine fuel economy estimates is derived from vehicle testing done at EPA's National Vehicle and Fuel Emissions Laboratory in Ann Arbor, Michigan, and by vehicle manufacturers who submit their own test data to EPA.\n",
    "\n",
    "Each year, EPA provides fuel economy data to the Department of Energy (DOE), the Department of Transportation (DOT) and the Internal Revenue Service (IRS) so that they can administer their fuel economy-related programs."
   ]
  },
  {
   "cell_type": "markdown",
   "id": "fb8c187b",
   "metadata": {},
   "source": [
    "# 2. Importing libraries."
   ]
  },
  {
   "cell_type": "code",
   "execution_count": 167,
   "id": "1fde15d6",
   "metadata": {},
   "outputs": [],
   "source": [
    "import pandas as pd\n",
    "import numpy as np\n",
    "\n",
    "import seaborn as sns\n",
    "import matplotlib.pyplot as plt\n",
    "%matplotlib inline\n",
    "\n",
    "import warnings\n",
    "warnings.simplefilter(action='ignore', category=FutureWarning)"
   ]
  },
  {
   "cell_type": "markdown",
   "id": "826e9f6f",
   "metadata": {},
   "source": [
    "# 3. Reading the Data"
   ]
  },
  {
   "cell_type": "code",
   "execution_count": 71,
   "id": "96d50bc4",
   "metadata": {},
   "outputs": [],
   "source": [
    "# Lets define a function that reads data\n",
    "def read(data):\n",
    "    return pd.read_csv(data)"
   ]
  },
  {
   "cell_type": "code",
   "execution_count": 72,
   "id": "14af5d6d",
   "metadata": {},
   "outputs": [
    {
     "data": {
      "text/html": [
       "<div>\n",
       "<style scoped>\n",
       "    .dataframe tbody tr th:only-of-type {\n",
       "        vertical-align: middle;\n",
       "    }\n",
       "\n",
       "    .dataframe tbody tr th {\n",
       "        vertical-align: top;\n",
       "    }\n",
       "\n",
       "    .dataframe thead th {\n",
       "        text-align: right;\n",
       "    }\n",
       "</style>\n",
       "<table border=\"1\" class=\"dataframe\">\n",
       "  <thead>\n",
       "    <tr style=\"text-align: right;\">\n",
       "      <th></th>\n",
       "      <th>Model</th>\n",
       "      <th>Displ</th>\n",
       "      <th>Cyl</th>\n",
       "      <th>Trans</th>\n",
       "      <th>Drive</th>\n",
       "      <th>Fuel</th>\n",
       "      <th>Sales Area</th>\n",
       "      <th>Stnd</th>\n",
       "      <th>Underhood ID</th>\n",
       "      <th>Veh Class</th>\n",
       "      <th>Air Pollution Score</th>\n",
       "      <th>FE Calc Appr</th>\n",
       "      <th>City MPG</th>\n",
       "      <th>Hwy MPG</th>\n",
       "      <th>Cmb MPG</th>\n",
       "      <th>Unadj Cmb MPG</th>\n",
       "      <th>Greenhouse Gas Score</th>\n",
       "      <th>SmartWay</th>\n",
       "    </tr>\n",
       "  </thead>\n",
       "  <tbody>\n",
       "    <tr>\n",
       "      <th>0</th>\n",
       "      <td>ACURA MDX</td>\n",
       "      <td>3.7</td>\n",
       "      <td>(6 cyl)</td>\n",
       "      <td>Auto-S5</td>\n",
       "      <td>4WD</td>\n",
       "      <td>Gasoline</td>\n",
       "      <td>CA</td>\n",
       "      <td>U2</td>\n",
       "      <td>8HNXT03.7PKR</td>\n",
       "      <td>SUV</td>\n",
       "      <td>7</td>\n",
       "      <td>Drv</td>\n",
       "      <td>15</td>\n",
       "      <td>20</td>\n",
       "      <td>17</td>\n",
       "      <td>22.0527</td>\n",
       "      <td>4</td>\n",
       "      <td>no</td>\n",
       "    </tr>\n",
       "    <tr>\n",
       "      <th>1</th>\n",
       "      <td>ACURA MDX</td>\n",
       "      <td>3.7</td>\n",
       "      <td>(6 cyl)</td>\n",
       "      <td>Auto-S5</td>\n",
       "      <td>4WD</td>\n",
       "      <td>Gasoline</td>\n",
       "      <td>FA</td>\n",
       "      <td>B5</td>\n",
       "      <td>8HNXT03.7PKR</td>\n",
       "      <td>SUV</td>\n",
       "      <td>6</td>\n",
       "      <td>Drv</td>\n",
       "      <td>15</td>\n",
       "      <td>20</td>\n",
       "      <td>17</td>\n",
       "      <td>22.0527</td>\n",
       "      <td>4</td>\n",
       "      <td>no</td>\n",
       "    </tr>\n",
       "    <tr>\n",
       "      <th>2</th>\n",
       "      <td>ACURA RDX</td>\n",
       "      <td>2.3</td>\n",
       "      <td>(4 cyl)</td>\n",
       "      <td>Auto-S5</td>\n",
       "      <td>4WD</td>\n",
       "      <td>Gasoline</td>\n",
       "      <td>CA</td>\n",
       "      <td>U2</td>\n",
       "      <td>8HNXT02.3DKR</td>\n",
       "      <td>SUV</td>\n",
       "      <td>7</td>\n",
       "      <td>Drv</td>\n",
       "      <td>17</td>\n",
       "      <td>22</td>\n",
       "      <td>19</td>\n",
       "      <td>24.1745</td>\n",
       "      <td>5</td>\n",
       "      <td>no</td>\n",
       "    </tr>\n",
       "    <tr>\n",
       "      <th>3</th>\n",
       "      <td>ACURA RDX</td>\n",
       "      <td>2.3</td>\n",
       "      <td>(4 cyl)</td>\n",
       "      <td>Auto-S5</td>\n",
       "      <td>4WD</td>\n",
       "      <td>Gasoline</td>\n",
       "      <td>FA</td>\n",
       "      <td>B5</td>\n",
       "      <td>8HNXT02.3DKR</td>\n",
       "      <td>SUV</td>\n",
       "      <td>6</td>\n",
       "      <td>Drv</td>\n",
       "      <td>17</td>\n",
       "      <td>22</td>\n",
       "      <td>19</td>\n",
       "      <td>24.1745</td>\n",
       "      <td>5</td>\n",
       "      <td>no</td>\n",
       "    </tr>\n",
       "    <tr>\n",
       "      <th>4</th>\n",
       "      <td>ACURA RL</td>\n",
       "      <td>3.5</td>\n",
       "      <td>(6 cyl)</td>\n",
       "      <td>Auto-S5</td>\n",
       "      <td>4WD</td>\n",
       "      <td>Gasoline</td>\n",
       "      <td>CA</td>\n",
       "      <td>U2</td>\n",
       "      <td>8HNXV03.5HKR</td>\n",
       "      <td>midsize car</td>\n",
       "      <td>7</td>\n",
       "      <td>Drv</td>\n",
       "      <td>16</td>\n",
       "      <td>24</td>\n",
       "      <td>19</td>\n",
       "      <td>24.5629</td>\n",
       "      <td>5</td>\n",
       "      <td>no</td>\n",
       "    </tr>\n",
       "  </tbody>\n",
       "</table>\n",
       "</div>"
      ],
      "text/plain": [
       "       Model  Displ      Cyl    Trans Drive      Fuel Sales Area Stnd  \\\n",
       "0  ACURA MDX    3.7  (6 cyl)  Auto-S5   4WD  Gasoline         CA   U2   \n",
       "1  ACURA MDX    3.7  (6 cyl)  Auto-S5   4WD  Gasoline         FA   B5   \n",
       "2  ACURA RDX    2.3  (4 cyl)  Auto-S5   4WD  Gasoline         CA   U2   \n",
       "3  ACURA RDX    2.3  (4 cyl)  Auto-S5   4WD  Gasoline         FA   B5   \n",
       "4   ACURA RL    3.5  (6 cyl)  Auto-S5   4WD  Gasoline         CA   U2   \n",
       "\n",
       "   Underhood ID    Veh Class Air Pollution Score FE Calc Appr City MPG  \\\n",
       "0  8HNXT03.7PKR          SUV                   7          Drv       15   \n",
       "1  8HNXT03.7PKR          SUV                   6          Drv       15   \n",
       "2  8HNXT02.3DKR          SUV                   7          Drv       17   \n",
       "3  8HNXT02.3DKR          SUV                   6          Drv       17   \n",
       "4  8HNXV03.5HKR  midsize car                   7          Drv       16   \n",
       "\n",
       "  Hwy MPG Cmb MPG  Unadj Cmb MPG Greenhouse Gas Score SmartWay  \n",
       "0      20      17        22.0527                    4       no  \n",
       "1      20      17        22.0527                    4       no  \n",
       "2      22      19        24.1745                    5       no  \n",
       "3      22      19        24.1745                    5       no  \n",
       "4      24      19        24.5629                    5       no  "
      ]
     },
     "execution_count": 72,
     "metadata": {},
     "output_type": "execute_result"
    }
   ],
   "source": [
    "fuel_08 = read('all_alpha_08.csv')\n",
    "fuel_08.head()"
   ]
  },
  {
   "cell_type": "code",
   "execution_count": 73,
   "id": "557ab300",
   "metadata": {},
   "outputs": [
    {
     "data": {
      "text/html": [
       "<div>\n",
       "<style scoped>\n",
       "    .dataframe tbody tr th:only-of-type {\n",
       "        vertical-align: middle;\n",
       "    }\n",
       "\n",
       "    .dataframe tbody tr th {\n",
       "        vertical-align: top;\n",
       "    }\n",
       "\n",
       "    .dataframe thead th {\n",
       "        text-align: right;\n",
       "    }\n",
       "</style>\n",
       "<table border=\"1\" class=\"dataframe\">\n",
       "  <thead>\n",
       "    <tr style=\"text-align: right;\">\n",
       "      <th></th>\n",
       "      <th>Model</th>\n",
       "      <th>Displ</th>\n",
       "      <th>Cyl</th>\n",
       "      <th>Trans</th>\n",
       "      <th>Drive</th>\n",
       "      <th>Fuel</th>\n",
       "      <th>Cert Region</th>\n",
       "      <th>Stnd</th>\n",
       "      <th>Stnd Description</th>\n",
       "      <th>Underhood ID</th>\n",
       "      <th>Veh Class</th>\n",
       "      <th>Air Pollution Score</th>\n",
       "      <th>City MPG</th>\n",
       "      <th>Hwy MPG</th>\n",
       "      <th>Cmb MPG</th>\n",
       "      <th>Greenhouse Gas Score</th>\n",
       "      <th>SmartWay</th>\n",
       "      <th>Comb CO2</th>\n",
       "    </tr>\n",
       "  </thead>\n",
       "  <tbody>\n",
       "    <tr>\n",
       "      <th>0</th>\n",
       "      <td>ACURA RDX</td>\n",
       "      <td>3.5</td>\n",
       "      <td>6.0</td>\n",
       "      <td>SemiAuto-6</td>\n",
       "      <td>2WD</td>\n",
       "      <td>Gasoline</td>\n",
       "      <td>FA</td>\n",
       "      <td>T3B125</td>\n",
       "      <td>Federal Tier 3 Bin 125</td>\n",
       "      <td>JHNXT03.5GV3</td>\n",
       "      <td>small SUV</td>\n",
       "      <td>3</td>\n",
       "      <td>20</td>\n",
       "      <td>28</td>\n",
       "      <td>23</td>\n",
       "      <td>5</td>\n",
       "      <td>No</td>\n",
       "      <td>386</td>\n",
       "    </tr>\n",
       "    <tr>\n",
       "      <th>1</th>\n",
       "      <td>ACURA RDX</td>\n",
       "      <td>3.5</td>\n",
       "      <td>6.0</td>\n",
       "      <td>SemiAuto-6</td>\n",
       "      <td>2WD</td>\n",
       "      <td>Gasoline</td>\n",
       "      <td>CA</td>\n",
       "      <td>U2</td>\n",
       "      <td>California LEV-II ULEV</td>\n",
       "      <td>JHNXT03.5GV3</td>\n",
       "      <td>small SUV</td>\n",
       "      <td>3</td>\n",
       "      <td>20</td>\n",
       "      <td>28</td>\n",
       "      <td>23</td>\n",
       "      <td>5</td>\n",
       "      <td>No</td>\n",
       "      <td>386</td>\n",
       "    </tr>\n",
       "    <tr>\n",
       "      <th>2</th>\n",
       "      <td>ACURA RDX</td>\n",
       "      <td>3.5</td>\n",
       "      <td>6.0</td>\n",
       "      <td>SemiAuto-6</td>\n",
       "      <td>4WD</td>\n",
       "      <td>Gasoline</td>\n",
       "      <td>FA</td>\n",
       "      <td>T3B125</td>\n",
       "      <td>Federal Tier 3 Bin 125</td>\n",
       "      <td>JHNXT03.5GV3</td>\n",
       "      <td>small SUV</td>\n",
       "      <td>3</td>\n",
       "      <td>19</td>\n",
       "      <td>27</td>\n",
       "      <td>22</td>\n",
       "      <td>4</td>\n",
       "      <td>No</td>\n",
       "      <td>402</td>\n",
       "    </tr>\n",
       "    <tr>\n",
       "      <th>3</th>\n",
       "      <td>ACURA RDX</td>\n",
       "      <td>3.5</td>\n",
       "      <td>6.0</td>\n",
       "      <td>SemiAuto-6</td>\n",
       "      <td>4WD</td>\n",
       "      <td>Gasoline</td>\n",
       "      <td>CA</td>\n",
       "      <td>U2</td>\n",
       "      <td>California LEV-II ULEV</td>\n",
       "      <td>JHNXT03.5GV3</td>\n",
       "      <td>small SUV</td>\n",
       "      <td>3</td>\n",
       "      <td>19</td>\n",
       "      <td>27</td>\n",
       "      <td>22</td>\n",
       "      <td>4</td>\n",
       "      <td>No</td>\n",
       "      <td>402</td>\n",
       "    </tr>\n",
       "    <tr>\n",
       "      <th>4</th>\n",
       "      <td>ACURA TLX</td>\n",
       "      <td>2.4</td>\n",
       "      <td>4.0</td>\n",
       "      <td>AMS-8</td>\n",
       "      <td>2WD</td>\n",
       "      <td>Gasoline</td>\n",
       "      <td>CA</td>\n",
       "      <td>L3ULEV125</td>\n",
       "      <td>California LEV-III ULEV125</td>\n",
       "      <td>JHNXV02.4WH3</td>\n",
       "      <td>small car</td>\n",
       "      <td>3</td>\n",
       "      <td>23</td>\n",
       "      <td>33</td>\n",
       "      <td>27</td>\n",
       "      <td>6</td>\n",
       "      <td>No</td>\n",
       "      <td>330</td>\n",
       "    </tr>\n",
       "  </tbody>\n",
       "</table>\n",
       "</div>"
      ],
      "text/plain": [
       "       Model  Displ  Cyl       Trans Drive      Fuel Cert Region       Stnd  \\\n",
       "0  ACURA RDX    3.5  6.0  SemiAuto-6   2WD  Gasoline          FA     T3B125   \n",
       "1  ACURA RDX    3.5  6.0  SemiAuto-6   2WD  Gasoline          CA         U2   \n",
       "2  ACURA RDX    3.5  6.0  SemiAuto-6   4WD  Gasoline          FA     T3B125   \n",
       "3  ACURA RDX    3.5  6.0  SemiAuto-6   4WD  Gasoline          CA         U2   \n",
       "4  ACURA TLX    2.4  4.0       AMS-8   2WD  Gasoline          CA  L3ULEV125   \n",
       "\n",
       "             Stnd Description  Underhood ID  Veh Class  Air Pollution Score  \\\n",
       "0      Federal Tier 3 Bin 125  JHNXT03.5GV3  small SUV                    3   \n",
       "1      California LEV-II ULEV  JHNXT03.5GV3  small SUV                    3   \n",
       "2      Federal Tier 3 Bin 125  JHNXT03.5GV3  small SUV                    3   \n",
       "3      California LEV-II ULEV  JHNXT03.5GV3  small SUV                    3   \n",
       "4  California LEV-III ULEV125  JHNXV02.4WH3  small car                    3   \n",
       "\n",
       "  City MPG Hwy MPG Cmb MPG  Greenhouse Gas Score SmartWay Comb CO2  \n",
       "0       20      28      23                     5       No      386  \n",
       "1       20      28      23                     5       No      386  \n",
       "2       19      27      22                     4       No      402  \n",
       "3       19      27      22                     4       No      402  \n",
       "4       23      33      27                     6       No      330  "
      ]
     },
     "execution_count": 73,
     "metadata": {},
     "output_type": "execute_result"
    }
   ],
   "source": [
    "fuel_18 = read('all_alpha_18.csv')\n",
    "fuel_18.head()"
   ]
  },
  {
   "cell_type": "markdown",
   "id": "53dbc334",
   "metadata": {},
   "source": [
    "# 4. Data Understanding\n",
    "\n",
    "## Assessing Data"
   ]
  },
  {
   "cell_type": "code",
   "execution_count": 74,
   "id": "2acb9cbd",
   "metadata": {},
   "outputs": [
    {
     "name": "stdout",
     "output_type": "stream",
     "text": [
      "The number of samples in the 2008 dataset (2404, 18)\n",
      "The number of samples in the 2018 dataset (1611, 18)\n"
     ]
    }
   ],
   "source": [
    "# The shape of our datasets\n",
    "print('The number of samples in the 2008 dataset',fuel_08.shape)\n",
    "print('The number of samples in the 2018 dataset',fuel_18.shape)\n"
   ]
  },
  {
   "cell_type": "code",
   "execution_count": 75,
   "id": "7fd87efe",
   "metadata": {},
   "outputs": [
    {
     "name": "stdout",
     "output_type": "stream",
     "text": [
      "The number of duplicated values in the 2008 data is  25\n",
      "The number of duplicated values in the 2018 data is  0\n"
     ]
    }
   ],
   "source": [
    "# Duplicate rows in each dataset\n",
    "print('The number of duplicated values in the 2008 data is ',fuel_08.duplicated().sum().sum())\n",
    "print('The number of duplicated values in the 2018 data is ',fuel_18.duplicated().sum().sum())"
   ]
  },
  {
   "cell_type": "code",
   "execution_count": 76,
   "id": "dc91f86c",
   "metadata": {},
   "outputs": [
    {
     "name": "stdout",
     "output_type": "stream",
     "text": [
      "Datatypes in the 2008 data \n",
      "Model                    object\n",
      "Displ                   float64\n",
      "Cyl                      object\n",
      "Trans                    object\n",
      "Drive                    object\n",
      "Fuel                     object\n",
      "Sales Area               object\n",
      "Stnd                     object\n",
      "Underhood ID             object\n",
      "Veh Class                object\n",
      "Air Pollution Score      object\n",
      "FE Calc Appr             object\n",
      "City MPG                 object\n",
      "Hwy MPG                  object\n",
      "Cmb MPG                  object\n",
      "Unadj Cmb MPG           float64\n",
      "Greenhouse Gas Score     object\n",
      "SmartWay                 object\n",
      "dtype: object\n",
      "**************************************************\n",
      "Data types in the 2018 data \n",
      "Model                    object\n",
      "Displ                   float64\n",
      "Cyl                     float64\n",
      "Trans                    object\n",
      "Drive                    object\n",
      "Fuel                     object\n",
      "Cert Region              object\n",
      "Stnd                     object\n",
      "Stnd Description         object\n",
      "Underhood ID             object\n",
      "Veh Class                object\n",
      "Air Pollution Score       int64\n",
      "City MPG                 object\n",
      "Hwy MPG                  object\n",
      "Cmb MPG                  object\n",
      "Greenhouse Gas Score      int64\n",
      "SmartWay                 object\n",
      "Comb CO2                 object\n",
      "dtype: object\n"
     ]
    }
   ],
   "source": [
    "# Let's check the Datatypes of the columns\n",
    "print('Datatypes in the 2008 data ')\n",
    "print(fuel_08.dtypes)\n",
    "print('*'*50)\n",
    "print('Data types in the 2018 data ')\n",
    "print(fuel_18.dtypes)"
   ]
  },
  {
   "cell_type": "code",
   "execution_count": 77,
   "id": "68828d3c",
   "metadata": {},
   "outputs": [
    {
     "name": "stdout",
     "output_type": "stream",
     "text": [
      "The number of missing values in the 2008 dataset Model                     0\n",
      "Displ                     0\n",
      "Cyl                     199\n",
      "Trans                   199\n",
      "Drive                    93\n",
      "Fuel                      0\n",
      "Sales Area                0\n",
      "Stnd                      0\n",
      "Underhood ID              0\n",
      "Veh Class                 0\n",
      "Air Pollution Score       0\n",
      "FE Calc Appr            199\n",
      "City MPG                199\n",
      "Hwy MPG                 199\n",
      "Cmb MPG                 199\n",
      "Unadj Cmb MPG           199\n",
      "Greenhouse Gas Score    199\n",
      "SmartWay                  0\n",
      "dtype: int64\n",
      "**************************************************\n",
      "The number of missing values in the 2018 dataset Model                   0\n",
      "Displ                   2\n",
      "Cyl                     2\n",
      "Trans                   0\n",
      "Drive                   0\n",
      "Fuel                    0\n",
      "Cert Region             0\n",
      "Stnd                    0\n",
      "Stnd Description        0\n",
      "Underhood ID            0\n",
      "Veh Class               0\n",
      "Air Pollution Score     0\n",
      "City MPG                0\n",
      "Hwy MPG                 0\n",
      "Cmb MPG                 0\n",
      "Greenhouse Gas Score    0\n",
      "SmartWay                0\n",
      "Comb CO2                0\n",
      "dtype: int64\n"
     ]
    }
   ],
   "source": [
    "# Lets check for features with missing values\n",
    "print('The number of missing values in the 2008 dataset',fuel_08.isna().sum())\n",
    "print('*'*50)\n",
    "print('The number of missing values in the 2018 dataset',fuel_18.isna().sum())\n"
   ]
  },
  {
   "cell_type": "code",
   "execution_count": 78,
   "id": "e213a9c1",
   "metadata": {},
   "outputs": [
    {
     "name": "stdout",
     "output_type": "stream",
     "text": [
      "<class 'pandas.core.frame.DataFrame'>\n",
      "RangeIndex: 2404 entries, 0 to 2403\n",
      "Data columns (total 18 columns):\n",
      " #   Column                Non-Null Count  Dtype  \n",
      "---  ------                --------------  -----  \n",
      " 0   Model                 2404 non-null   object \n",
      " 1   Displ                 2404 non-null   float64\n",
      " 2   Cyl                   2205 non-null   object \n",
      " 3   Trans                 2205 non-null   object \n",
      " 4   Drive                 2311 non-null   object \n",
      " 5   Fuel                  2404 non-null   object \n",
      " 6   Sales Area            2404 non-null   object \n",
      " 7   Stnd                  2404 non-null   object \n",
      " 8   Underhood ID          2404 non-null   object \n",
      " 9   Veh Class             2404 non-null   object \n",
      " 10  Air Pollution Score   2404 non-null   object \n",
      " 11  FE Calc Appr          2205 non-null   object \n",
      " 12  City MPG              2205 non-null   object \n",
      " 13  Hwy MPG               2205 non-null   object \n",
      " 14  Cmb MPG               2205 non-null   object \n",
      " 15  Unadj Cmb MPG         2205 non-null   float64\n",
      " 16  Greenhouse Gas Score  2205 non-null   object \n",
      " 17  SmartWay              2404 non-null   object \n",
      "dtypes: float64(2), object(16)\n",
      "memory usage: 338.2+ KB\n",
      "The number of non-null in the 2008 dataset None\n",
      "**************************************************\n",
      "<class 'pandas.core.frame.DataFrame'>\n",
      "RangeIndex: 1611 entries, 0 to 1610\n",
      "Data columns (total 18 columns):\n",
      " #   Column                Non-Null Count  Dtype  \n",
      "---  ------                --------------  -----  \n",
      " 0   Model                 1611 non-null   object \n",
      " 1   Displ                 1609 non-null   float64\n",
      " 2   Cyl                   1609 non-null   float64\n",
      " 3   Trans                 1611 non-null   object \n",
      " 4   Drive                 1611 non-null   object \n",
      " 5   Fuel                  1611 non-null   object \n",
      " 6   Cert Region           1611 non-null   object \n",
      " 7   Stnd                  1611 non-null   object \n",
      " 8   Stnd Description      1611 non-null   object \n",
      " 9   Underhood ID          1611 non-null   object \n",
      " 10  Veh Class             1611 non-null   object \n",
      " 11  Air Pollution Score   1611 non-null   int64  \n",
      " 12  City MPG              1611 non-null   object \n",
      " 13  Hwy MPG               1611 non-null   object \n",
      " 14  Cmb MPG               1611 non-null   object \n",
      " 15  Greenhouse Gas Score  1611 non-null   int64  \n",
      " 16  SmartWay              1611 non-null   object \n",
      " 17  Comb CO2              1611 non-null   object \n",
      "dtypes: float64(2), int64(2), object(14)\n",
      "memory usage: 226.7+ KB\n",
      "The number of non null in the 2018 dataset None\n"
     ]
    }
   ],
   "source": [
    "# Number of non-null unique values for features in each dataset\n",
    "print('The number of non-null in the 2008 dataset',fuel_08.info())\n",
    "print('*'*50)\n",
    "print('The number of non null in the 2018 dataset',fuel_18.info())"
   ]
  },
  {
   "cell_type": "code",
   "execution_count": 79,
   "id": "4decf71e",
   "metadata": {},
   "outputs": [
    {
     "name": "stdout",
     "output_type": "stream",
     "text": [
      "The number of unique values and counts in the 2008 dataset Model                   436\n",
      "Displ                    47\n",
      "Cyl                       8\n",
      "Trans                    14\n",
      "Drive                     2\n",
      "Fuel                      5\n",
      "Sales Area                3\n",
      "Stnd                     12\n",
      "Underhood ID            343\n",
      "Veh Class                 9\n",
      "Air Pollution Score      13\n",
      "FE Calc Appr              2\n",
      "City MPG                 39\n",
      "Hwy MPG                  43\n",
      "Cmb MPG                  38\n",
      "Unadj Cmb MPG           721\n",
      "Greenhouse Gas Score     20\n",
      "SmartWay                  2\n",
      "dtype: int64\n",
      "**************************************************\n",
      "The number of unique values and counts in the 2018 dataset Model                   367\n",
      "Displ                    36\n",
      "Cyl                       7\n",
      "Trans                    26\n",
      "Drive                     2\n",
      "Fuel                      5\n",
      "Cert Region               2\n",
      "Stnd                     19\n",
      "Stnd Description         19\n",
      "Underhood ID            230\n",
      "Veh Class                 9\n",
      "Air Pollution Score       6\n",
      "City MPG                 58\n",
      "Hwy MPG                  62\n",
      "Cmb MPG                  57\n",
      "Greenhouse Gas Score     10\n",
      "SmartWay                  3\n",
      "Comb CO2                299\n",
      "dtype: int64\n"
     ]
    }
   ],
   "source": [
    "# Unique values and counts for each column\n",
    "print('The number of unique values and counts in the 2008 dataset',fuel_08.nunique())\n",
    "print('*'*50)\n",
    "print('The number of unique values and counts in the 2018 dataset',fuel_18.nunique())\n"
   ]
  },
  {
   "cell_type": "markdown",
   "id": "ecba74d5",
   "metadata": {},
   "source": [
    "# 5. Data Cleaning"
   ]
  },
  {
   "cell_type": "code",
   "execution_count": 80,
   "id": "4281d15e",
   "metadata": {},
   "outputs": [
    {
     "data": {
      "text/html": [
       "<div>\n",
       "<style scoped>\n",
       "    .dataframe tbody tr th:only-of-type {\n",
       "        vertical-align: middle;\n",
       "    }\n",
       "\n",
       "    .dataframe tbody tr th {\n",
       "        vertical-align: top;\n",
       "    }\n",
       "\n",
       "    .dataframe thead th {\n",
       "        text-align: right;\n",
       "    }\n",
       "</style>\n",
       "<table border=\"1\" class=\"dataframe\">\n",
       "  <thead>\n",
       "    <tr style=\"text-align: right;\">\n",
       "      <th></th>\n",
       "      <th>Model</th>\n",
       "      <th>Displ</th>\n",
       "      <th>Cyl</th>\n",
       "      <th>Trans</th>\n",
       "      <th>Drive</th>\n",
       "      <th>Fuel</th>\n",
       "      <th>Sales Area</th>\n",
       "      <th>Veh Class</th>\n",
       "      <th>Air Pollution Score</th>\n",
       "      <th>City MPG</th>\n",
       "      <th>Hwy MPG</th>\n",
       "      <th>Cmb MPG</th>\n",
       "      <th>Greenhouse Gas Score</th>\n",
       "      <th>SmartWay</th>\n",
       "    </tr>\n",
       "  </thead>\n",
       "  <tbody>\n",
       "    <tr>\n",
       "      <th>0</th>\n",
       "      <td>ACURA MDX</td>\n",
       "      <td>3.7</td>\n",
       "      <td>(6 cyl)</td>\n",
       "      <td>Auto-S5</td>\n",
       "      <td>4WD</td>\n",
       "      <td>Gasoline</td>\n",
       "      <td>CA</td>\n",
       "      <td>SUV</td>\n",
       "      <td>7</td>\n",
       "      <td>15</td>\n",
       "      <td>20</td>\n",
       "      <td>17</td>\n",
       "      <td>4</td>\n",
       "      <td>no</td>\n",
       "    </tr>\n",
       "  </tbody>\n",
       "</table>\n",
       "</div>"
      ],
      "text/plain": [
       "       Model  Displ      Cyl    Trans Drive      Fuel Sales Area Veh Class  \\\n",
       "0  ACURA MDX    3.7  (6 cyl)  Auto-S5   4WD  Gasoline         CA       SUV   \n",
       "\n",
       "  Air Pollution Score City MPG Hwy MPG Cmb MPG Greenhouse Gas Score SmartWay  \n",
       "0                   7       15      20      17                    4       no  "
      ]
     },
     "execution_count": 80,
     "metadata": {},
     "output_type": "execute_result"
    }
   ],
   "source": [
    "# Lets drop irrelevant columns from 2008 dataset\n",
    "fuel_08.drop(['Stnd', 'Underhood ID', 'FE Calc Appr', 'Unadj Cmb MPG'], axis=1, inplace=True)\n",
    "\n",
    "# confirm changes\n",
    "fuel_08.head(1)"
   ]
  },
  {
   "cell_type": "code",
   "execution_count": 81,
   "id": "79ec17d0",
   "metadata": {},
   "outputs": [
    {
     "data": {
      "text/html": [
       "<div>\n",
       "<style scoped>\n",
       "    .dataframe tbody tr th:only-of-type {\n",
       "        vertical-align: middle;\n",
       "    }\n",
       "\n",
       "    .dataframe tbody tr th {\n",
       "        vertical-align: top;\n",
       "    }\n",
       "\n",
       "    .dataframe thead th {\n",
       "        text-align: right;\n",
       "    }\n",
       "</style>\n",
       "<table border=\"1\" class=\"dataframe\">\n",
       "  <thead>\n",
       "    <tr style=\"text-align: right;\">\n",
       "      <th></th>\n",
       "      <th>Model</th>\n",
       "      <th>Displ</th>\n",
       "      <th>Cyl</th>\n",
       "      <th>Trans</th>\n",
       "      <th>Drive</th>\n",
       "      <th>Fuel</th>\n",
       "      <th>Cert Region</th>\n",
       "      <th>Veh Class</th>\n",
       "      <th>Air Pollution Score</th>\n",
       "      <th>City MPG</th>\n",
       "      <th>Hwy MPG</th>\n",
       "      <th>Cmb MPG</th>\n",
       "      <th>Greenhouse Gas Score</th>\n",
       "      <th>SmartWay</th>\n",
       "    </tr>\n",
       "  </thead>\n",
       "  <tbody>\n",
       "    <tr>\n",
       "      <th>0</th>\n",
       "      <td>ACURA RDX</td>\n",
       "      <td>3.5</td>\n",
       "      <td>6.0</td>\n",
       "      <td>SemiAuto-6</td>\n",
       "      <td>2WD</td>\n",
       "      <td>Gasoline</td>\n",
       "      <td>FA</td>\n",
       "      <td>small SUV</td>\n",
       "      <td>3</td>\n",
       "      <td>20</td>\n",
       "      <td>28</td>\n",
       "      <td>23</td>\n",
       "      <td>5</td>\n",
       "      <td>No</td>\n",
       "    </tr>\n",
       "  </tbody>\n",
       "</table>\n",
       "</div>"
      ],
      "text/plain": [
       "       Model  Displ  Cyl       Trans Drive      Fuel Cert Region  Veh Class  \\\n",
       "0  ACURA RDX    3.5  6.0  SemiAuto-6   2WD  Gasoline          FA  small SUV   \n",
       "\n",
       "   Air Pollution Score City MPG Hwy MPG Cmb MPG  Greenhouse Gas Score SmartWay  \n",
       "0                    3       20      28      23                     5       No  "
      ]
     },
     "execution_count": 81,
     "metadata": {},
     "output_type": "execute_result"
    }
   ],
   "source": [
    "# Lets drop irrelevant columns from 2018 dataset\n",
    "fuel_18.drop(['Stnd', 'Stnd Description', 'Underhood ID', 'Comb CO2'],axis=1,inplace=True)\n",
    "\n",
    "# confirm changes\n",
    "fuel_18.head(1)"
   ]
  },
  {
   "cell_type": "markdown",
   "id": "818085cf",
   "metadata": {},
   "source": [
    "### Rename Columns"
   ]
  },
  {
   "cell_type": "code",
   "execution_count": 82,
   "id": "a43be5e8",
   "metadata": {},
   "outputs": [
    {
     "data": {
      "text/html": [
       "<div>\n",
       "<style scoped>\n",
       "    .dataframe tbody tr th:only-of-type {\n",
       "        vertical-align: middle;\n",
       "    }\n",
       "\n",
       "    .dataframe tbody tr th {\n",
       "        vertical-align: top;\n",
       "    }\n",
       "\n",
       "    .dataframe thead th {\n",
       "        text-align: right;\n",
       "    }\n",
       "</style>\n",
       "<table border=\"1\" class=\"dataframe\">\n",
       "  <thead>\n",
       "    <tr style=\"text-align: right;\">\n",
       "      <th></th>\n",
       "      <th>Model</th>\n",
       "      <th>Displ</th>\n",
       "      <th>Cyl</th>\n",
       "      <th>Trans</th>\n",
       "      <th>Drive</th>\n",
       "      <th>Fuel</th>\n",
       "      <th>Sales Area</th>\n",
       "      <th>Veh Class</th>\n",
       "      <th>Air Pollution Score</th>\n",
       "      <th>City MPG</th>\n",
       "      <th>Hwy MPG</th>\n",
       "      <th>Cmb MPG</th>\n",
       "      <th>Greenhouse Gas Score</th>\n",
       "      <th>SmartWay</th>\n",
       "    </tr>\n",
       "  </thead>\n",
       "  <tbody>\n",
       "    <tr>\n",
       "      <th>0</th>\n",
       "      <td>ACURA MDX</td>\n",
       "      <td>3.7</td>\n",
       "      <td>(6 cyl)</td>\n",
       "      <td>Auto-S5</td>\n",
       "      <td>4WD</td>\n",
       "      <td>Gasoline</td>\n",
       "      <td>CA</td>\n",
       "      <td>SUV</td>\n",
       "      <td>7</td>\n",
       "      <td>15</td>\n",
       "      <td>20</td>\n",
       "      <td>17</td>\n",
       "      <td>4</td>\n",
       "      <td>no</td>\n",
       "    </tr>\n",
       "  </tbody>\n",
       "</table>\n",
       "</div>"
      ],
      "text/plain": [
       "       Model  Displ      Cyl    Trans Drive      Fuel Sales Area Veh Class  \\\n",
       "0  ACURA MDX    3.7  (6 cyl)  Auto-S5   4WD  Gasoline         CA       SUV   \n",
       "\n",
       "  Air Pollution Score City MPG Hwy MPG Cmb MPG Greenhouse Gas Score SmartWay  \n",
       "0                   7       15      20      17                    4       no  "
      ]
     },
     "execution_count": 82,
     "metadata": {},
     "output_type": "execute_result"
    }
   ],
   "source": [
    "# rename Sales Area to Cert Region\n",
    "fuel_08.rename(columns={'sales_area':'cert_region'},inplace=True)\n",
    "\n",
    "\n",
    "# confirm changes\n",
    "fuel_08.head(1)"
   ]
  },
  {
   "cell_type": "code",
   "execution_count": 83,
   "id": "24243952",
   "metadata": {},
   "outputs": [
    {
     "data": {
      "text/html": [
       "<div>\n",
       "<style scoped>\n",
       "    .dataframe tbody tr th:only-of-type {\n",
       "        vertical-align: middle;\n",
       "    }\n",
       "\n",
       "    .dataframe tbody tr th {\n",
       "        vertical-align: top;\n",
       "    }\n",
       "\n",
       "    .dataframe thead th {\n",
       "        text-align: right;\n",
       "    }\n",
       "</style>\n",
       "<table border=\"1\" class=\"dataframe\">\n",
       "  <thead>\n",
       "    <tr style=\"text-align: right;\">\n",
       "      <th></th>\n",
       "      <th>model</th>\n",
       "      <th>displ</th>\n",
       "      <th>cyl</th>\n",
       "      <th>trans</th>\n",
       "      <th>drive</th>\n",
       "      <th>fuel</th>\n",
       "      <th>sales_area</th>\n",
       "      <th>veh_class</th>\n",
       "      <th>air_pollution_score</th>\n",
       "      <th>city_mpg</th>\n",
       "      <th>hwy_mpg</th>\n",
       "      <th>cmb_mpg</th>\n",
       "      <th>greenhouse_gas_score</th>\n",
       "      <th>smartway</th>\n",
       "    </tr>\n",
       "  </thead>\n",
       "  <tbody>\n",
       "    <tr>\n",
       "      <th>0</th>\n",
       "      <td>ACURA MDX</td>\n",
       "      <td>3.7</td>\n",
       "      <td>(6 cyl)</td>\n",
       "      <td>Auto-S5</td>\n",
       "      <td>4WD</td>\n",
       "      <td>Gasoline</td>\n",
       "      <td>CA</td>\n",
       "      <td>SUV</td>\n",
       "      <td>7</td>\n",
       "      <td>15</td>\n",
       "      <td>20</td>\n",
       "      <td>17</td>\n",
       "      <td>4</td>\n",
       "      <td>no</td>\n",
       "    </tr>\n",
       "  </tbody>\n",
       "</table>\n",
       "</div>"
      ],
      "text/plain": [
       "       model  displ      cyl    trans drive      fuel sales_area veh_class  \\\n",
       "0  ACURA MDX    3.7  (6 cyl)  Auto-S5   4WD  Gasoline         CA       SUV   \n",
       "\n",
       "  air_pollution_score city_mpg hwy_mpg cmb_mpg greenhouse_gas_score smartway  \n",
       "0                   7       15      20      17                    4       no  "
      ]
     },
     "execution_count": 83,
     "metadata": {},
     "output_type": "execute_result"
    }
   ],
   "source": [
    "# Lets replace spaces with underscores and lowercase labels for 2008 dataset\n",
    "fuel_08.rename(columns=lambda x: x.strip().lower().replace(\" \", \"_\"), inplace=True)\n",
    "\n",
    "# confirm changes\n",
    "fuel_08.head(1)"
   ]
  },
  {
   "cell_type": "code",
   "execution_count": 84,
   "id": "5770c9d3",
   "metadata": {},
   "outputs": [
    {
     "data": {
      "text/html": [
       "<div>\n",
       "<style scoped>\n",
       "    .dataframe tbody tr th:only-of-type {\n",
       "        vertical-align: middle;\n",
       "    }\n",
       "\n",
       "    .dataframe tbody tr th {\n",
       "        vertical-align: top;\n",
       "    }\n",
       "\n",
       "    .dataframe thead th {\n",
       "        text-align: right;\n",
       "    }\n",
       "</style>\n",
       "<table border=\"1\" class=\"dataframe\">\n",
       "  <thead>\n",
       "    <tr style=\"text-align: right;\">\n",
       "      <th></th>\n",
       "      <th>model</th>\n",
       "      <th>displ</th>\n",
       "      <th>cyl</th>\n",
       "      <th>trans</th>\n",
       "      <th>drive</th>\n",
       "      <th>fuel</th>\n",
       "      <th>cert_region</th>\n",
       "      <th>veh_class</th>\n",
       "      <th>air_pollution_score</th>\n",
       "      <th>city_mpg</th>\n",
       "      <th>hwy_mpg</th>\n",
       "      <th>cmb_mpg</th>\n",
       "      <th>greenhouse_gas_score</th>\n",
       "      <th>smartway</th>\n",
       "    </tr>\n",
       "  </thead>\n",
       "  <tbody>\n",
       "    <tr>\n",
       "      <th>0</th>\n",
       "      <td>ACURA RDX</td>\n",
       "      <td>3.5</td>\n",
       "      <td>6.0</td>\n",
       "      <td>SemiAuto-6</td>\n",
       "      <td>2WD</td>\n",
       "      <td>Gasoline</td>\n",
       "      <td>FA</td>\n",
       "      <td>small SUV</td>\n",
       "      <td>3</td>\n",
       "      <td>20</td>\n",
       "      <td>28</td>\n",
       "      <td>23</td>\n",
       "      <td>5</td>\n",
       "      <td>No</td>\n",
       "    </tr>\n",
       "  </tbody>\n",
       "</table>\n",
       "</div>"
      ],
      "text/plain": [
       "       model  displ  cyl       trans drive      fuel cert_region  veh_class  \\\n",
       "0  ACURA RDX    3.5  6.0  SemiAuto-6   2WD  Gasoline          FA  small SUV   \n",
       "\n",
       "   air_pollution_score city_mpg hwy_mpg cmb_mpg  greenhouse_gas_score smartway  \n",
       "0                    3       20      28      23                     5       No  "
      ]
     },
     "execution_count": 84,
     "metadata": {},
     "output_type": "execute_result"
    }
   ],
   "source": [
    "# Lets replace spaces with underscores and lowercase labels for 2018 dataset\n",
    "fuel_18.rename(columns=lambda x : x.strip().lower().replace(' ','_'),inplace=True)\n",
    "\n",
    "# confirm changes\n",
    "fuel_18.head(1)"
   ]
  },
  {
   "cell_type": "code",
   "execution_count": 85,
   "id": "0dbb812a",
   "metadata": {},
   "outputs": [
    {
     "data": {
      "text/plain": [
       "array([ True,  True,  True,  True,  True,  True, False,  True,  True,\n",
       "        True,  True,  True,  True,  True])"
      ]
     },
     "execution_count": 85,
     "metadata": {},
     "output_type": "execute_result"
    }
   ],
   "source": [
    "# Lets confirm column labels for 2008 and 2018 datasets are identical\n",
    "fuel_08.columns == fuel_18.columns"
   ]
  },
  {
   "cell_type": "code",
   "execution_count": 86,
   "id": "46bd5f67",
   "metadata": {},
   "outputs": [
    {
     "data": {
      "text/plain": [
       "False"
      ]
     },
     "execution_count": 86,
     "metadata": {},
     "output_type": "execute_result"
    }
   ],
   "source": [
    "# Lets make sure they're all identical like this\n",
    "(fuel_08.columns == fuel_18.columns).all()"
   ]
  },
  {
   "cell_type": "code",
   "execution_count": 87,
   "id": "fe85bd04",
   "metadata": {},
   "outputs": [],
   "source": [
    "# Lets save the new datasets\n",
    "fuel_08.to_csv('data_08_v1.csv', index=False)\n",
    "fuel_18.to_csv('data_18_v1.csv', index=False)"
   ]
  },
  {
   "cell_type": "markdown",
   "id": "3488ff77",
   "metadata": {},
   "source": [
    "For consistency, lets only compare cars certified by California standards. \n",
    "\n",
    "Filter both datasets to select only rows where cert_region is CA. \n",
    "\n",
    "Then, drop the cert_region columns, since it will no longer provide any useful information (we'll know every value is 'CA').\n",
    "\n",
    "### Filter, Drop null and Duplicate Values"
   ]
  },
  {
   "cell_type": "code",
   "execution_count": 88,
   "id": "3f8f6c7f",
   "metadata": {},
   "outputs": [],
   "source": [
    "# Lets read the new dataset\n",
    "\n",
    "fuel_08 = read('data_08_v1.csv')\n",
    "fuel_18 = read('data_18_v1.csv')"
   ]
  },
  {
   "cell_type": "code",
   "execution_count": 89,
   "id": "8798df43",
   "metadata": {},
   "outputs": [
    {
     "name": "stdout",
     "output_type": "stream",
     "text": [
      "The number of samples in the 2008 dataset (2404, 14)\n",
      "The number of samples in the 2018 dataset (1611, 14)\n"
     ]
    }
   ],
   "source": [
    "# The shape of our datasets\n",
    "print('The number of samples in the 2008 dataset',fuel_08.shape)\n",
    "print('The number of samples in the 2018 dataset',fuel_18.shape)"
   ]
  },
  {
   "cell_type": "code",
   "execution_count": 90,
   "id": "47cf2a5b",
   "metadata": {},
   "outputs": [],
   "source": [
    "fuel_08.rename(columns = {'sales_area':'cert_region'}, inplace=True)"
   ]
  },
  {
   "cell_type": "code",
   "execution_count": 91,
   "id": "488fd48b",
   "metadata": {},
   "outputs": [],
   "source": [
    "# Lets filter datasets for rows following California standards\n",
    "fuel_08 = fuel_08[fuel_08[\"cert_region\"] == \"CA\"]\n",
    "fuel_18 = fuel_18[fuel_18[\"cert_region\"]==\"CA\"]"
   ]
  },
  {
   "cell_type": "code",
   "execution_count": 92,
   "id": "93144adc",
   "metadata": {},
   "outputs": [
    {
     "name": "stdout",
     "output_type": "stream",
     "text": [
      "['CA']\n",
      "['CA']\n"
     ]
    }
   ],
   "source": [
    "# Lets confirm only certification region is California\n",
    "print(fuel_08['cert_region'].unique())\n",
    "print(fuel_18['cert_region'].unique())\n"
   ]
  },
  {
   "cell_type": "code",
   "execution_count": 93,
   "id": "2c13764a",
   "metadata": {},
   "outputs": [
    {
     "name": "stdout",
     "output_type": "stream",
     "text": [
      "The number of samples in the 2008 dataset (1084, 13)\n",
      "The number of samples in the 2018 dataset (798, 13)\n"
     ]
    }
   ],
   "source": [
    "# drop certification region columns form both datasets\n",
    "fuel_08.drop(columns = \"cert_region\",axis=1,inplace = True)\n",
    "fuel_18.drop(columns = \"cert_region\",axis=1,inplace = True)\n",
    "\n",
    "print('The number of samples in the 2008 dataset',fuel_08.shape)\n",
    "print('The number of samples in the 2018 dataset',fuel_18.shape)\n",
    "\n"
   ]
  },
  {
   "cell_type": "markdown",
   "id": "b332b754",
   "metadata": {},
   "source": [
    "### Drop Rows with Missing Values"
   ]
  },
  {
   "cell_type": "code",
   "execution_count": 94,
   "id": "a14a7b5e",
   "metadata": {},
   "outputs": [
    {
     "name": "stdout",
     "output_type": "stream",
     "text": [
      "The number of missing values in the 2008 dataset model                    0\n",
      "displ                    0\n",
      "cyl                     75\n",
      "trans                   75\n",
      "drive                   37\n",
      "fuel                     0\n",
      "veh_class                0\n",
      "air_pollution_score      0\n",
      "city_mpg                75\n",
      "hwy_mpg                 75\n",
      "cmb_mpg                 75\n",
      "greenhouse_gas_score    75\n",
      "smartway                 0\n",
      "dtype: int64\n",
      "**************************************************\n",
      "The number of missing values in the 2018 dataset model                   0\n",
      "displ                   1\n",
      "cyl                     1\n",
      "trans                   0\n",
      "drive                   0\n",
      "fuel                    0\n",
      "veh_class               0\n",
      "air_pollution_score     0\n",
      "city_mpg                0\n",
      "hwy_mpg                 0\n",
      "cmb_mpg                 0\n",
      "greenhouse_gas_score    0\n",
      "smartway                0\n",
      "dtype: int64\n"
     ]
    }
   ],
   "source": [
    "# Lets check for rows with missing values\n",
    "print('The number of missing values in the 2008 dataset',fuel_08.isna().sum())\n",
    "print('*'*50)\n",
    "print('The number of missing values in the 2018 dataset',fuel_18.isna().sum())"
   ]
  },
  {
   "cell_type": "code",
   "execution_count": 95,
   "id": "cb202572",
   "metadata": {},
   "outputs": [],
   "source": [
    "# Create a function that drops rows with any null values in both datasets\n",
    "\n",
    "def drop(null_values):\n",
    "    return null_values.dropna(axis=0,inplace=True)\n",
    "\n",
    "\n",
    "drop(fuel_18)\n",
    "drop(fuel_08)"
   ]
  },
  {
   "cell_type": "code",
   "execution_count": 96,
   "id": "dbfe6728",
   "metadata": {},
   "outputs": [
    {
     "name": "stdout",
     "output_type": "stream",
     "text": [
      "The 2008 dataset has missing values :  False\n",
      "The 2018 dataset has missing values :  False\n"
     ]
    }
   ],
   "source": [
    "# Lets confirm we do not have missing values in our data\n",
    "print('The 2008 dataset has missing values : ',fuel_08.isnull().sum().any())\n",
    "print('The 2018 dataset has missing values : ',fuel_18.isnull().sum().any())"
   ]
  },
  {
   "cell_type": "markdown",
   "id": "01db8091",
   "metadata": {},
   "source": [
    "### Deal with Duplicate values"
   ]
  },
  {
   "cell_type": "code",
   "execution_count": 97,
   "id": "3c28d6eb",
   "metadata": {},
   "outputs": [
    {
     "name": "stdout",
     "output_type": "stream",
     "text": [
      "The number of duplicated values in the 2008 dataset is  23\n",
      "The number of duplicated values in the 2018 dataset is  3\n"
     ]
    }
   ],
   "source": [
    "# print number of duplicates in 2008 and 2018 datasets\n",
    "print('The number of duplicated values in the 2008 dataset is ',fuel_08.duplicated().sum().sum())\n",
    "print('The number of duplicated values in the 2018 dataset is ',fuel_18.duplicated().sum().sum())\n"
   ]
  },
  {
   "cell_type": "code",
   "execution_count": 98,
   "id": "326e0987",
   "metadata": {},
   "outputs": [],
   "source": [
    "# Create a function that drops duplicate values\n",
    "def drop(duplicates):\n",
    "    return duplicates.drop_duplicates(inplace=True)"
   ]
  },
  {
   "cell_type": "code",
   "execution_count": 99,
   "id": "4fb4f281",
   "metadata": {},
   "outputs": [],
   "source": [
    "# Lets drop duplicates in both datasets\n",
    "drop(fuel_08)\n",
    "drop(fuel_18)"
   ]
  },
  {
   "cell_type": "code",
   "execution_count": 100,
   "id": "af74a99d",
   "metadata": {},
   "outputs": [
    {
     "name": "stdout",
     "output_type": "stream",
     "text": [
      "The number of duplicated values in the 2008 dataset is  0\n",
      "The number of duplicated values in the 2018 dataset is  0\n"
     ]
    }
   ],
   "source": [
    "# Lets print number of duplicates again to confirm dedupe - should both be 0\n",
    "print('The number of duplicated values in the 2008 dataset is ',fuel_08.duplicated().sum().sum())\n",
    "print('The number of duplicated values in the 2018 dataset is ',fuel_18.duplicated().sum().sum())\n"
   ]
  },
  {
   "cell_type": "code",
   "execution_count": 101,
   "id": "2b594344",
   "metadata": {},
   "outputs": [],
   "source": [
    "# Lets save progress\n",
    "fuel_08.to_csv('data_08_v2.csv', index=False)\n",
    "fuel_18.to_csv('data_18_v2.csv', index=False)"
   ]
  },
  {
   "cell_type": "markdown",
   "id": "e7e37297",
   "metadata": {},
   "source": [
    "### Inspecting Data Types "
   ]
  },
  {
   "cell_type": "code",
   "execution_count": 102,
   "id": "dedbb453",
   "metadata": {},
   "outputs": [
    {
     "data": {
      "text/html": [
       "<div>\n",
       "<style scoped>\n",
       "    .dataframe tbody tr th:only-of-type {\n",
       "        vertical-align: middle;\n",
       "    }\n",
       "\n",
       "    .dataframe tbody tr th {\n",
       "        vertical-align: top;\n",
       "    }\n",
       "\n",
       "    .dataframe thead th {\n",
       "        text-align: right;\n",
       "    }\n",
       "</style>\n",
       "<table border=\"1\" class=\"dataframe\">\n",
       "  <thead>\n",
       "    <tr style=\"text-align: right;\">\n",
       "      <th></th>\n",
       "      <th>model</th>\n",
       "      <th>displ</th>\n",
       "      <th>cyl</th>\n",
       "      <th>trans</th>\n",
       "      <th>drive</th>\n",
       "      <th>fuel</th>\n",
       "      <th>veh_class</th>\n",
       "      <th>air_pollution_score</th>\n",
       "      <th>city_mpg</th>\n",
       "      <th>hwy_mpg</th>\n",
       "      <th>cmb_mpg</th>\n",
       "      <th>greenhouse_gas_score</th>\n",
       "      <th>smartway</th>\n",
       "    </tr>\n",
       "  </thead>\n",
       "  <tbody>\n",
       "    <tr>\n",
       "      <th>0</th>\n",
       "      <td>ACURA MDX</td>\n",
       "      <td>3.7</td>\n",
       "      <td>(6 cyl)</td>\n",
       "      <td>Auto-S5</td>\n",
       "      <td>4WD</td>\n",
       "      <td>Gasoline</td>\n",
       "      <td>SUV</td>\n",
       "      <td>7</td>\n",
       "      <td>15</td>\n",
       "      <td>20</td>\n",
       "      <td>17</td>\n",
       "      <td>4</td>\n",
       "      <td>no</td>\n",
       "    </tr>\n",
       "    <tr>\n",
       "      <th>1</th>\n",
       "      <td>ACURA RDX</td>\n",
       "      <td>2.3</td>\n",
       "      <td>(4 cyl)</td>\n",
       "      <td>Auto-S5</td>\n",
       "      <td>4WD</td>\n",
       "      <td>Gasoline</td>\n",
       "      <td>SUV</td>\n",
       "      <td>7</td>\n",
       "      <td>17</td>\n",
       "      <td>22</td>\n",
       "      <td>19</td>\n",
       "      <td>5</td>\n",
       "      <td>no</td>\n",
       "    </tr>\n",
       "  </tbody>\n",
       "</table>\n",
       "</div>"
      ],
      "text/plain": [
       "       model  displ      cyl    trans drive      fuel veh_class  \\\n",
       "0  ACURA MDX    3.7  (6 cyl)  Auto-S5   4WD  Gasoline       SUV   \n",
       "1  ACURA RDX    2.3  (4 cyl)  Auto-S5   4WD  Gasoline       SUV   \n",
       "\n",
       "  air_pollution_score city_mpg hwy_mpg cmb_mpg greenhouse_gas_score smartway  \n",
       "0                   7       15      20      17                    4       no  \n",
       "1                   7       17      22      19                    5       no  "
      ]
     },
     "execution_count": 102,
     "metadata": {},
     "output_type": "execute_result"
    }
   ],
   "source": [
    "fuel_08 = read('data_08_v2.csv')\n",
    "fuel_08.head(2)"
   ]
  },
  {
   "cell_type": "code",
   "execution_count": 103,
   "id": "41eea3e8",
   "metadata": {},
   "outputs": [
    {
     "data": {
      "text/html": [
       "<div>\n",
       "<style scoped>\n",
       "    .dataframe tbody tr th:only-of-type {\n",
       "        vertical-align: middle;\n",
       "    }\n",
       "\n",
       "    .dataframe tbody tr th {\n",
       "        vertical-align: top;\n",
       "    }\n",
       "\n",
       "    .dataframe thead th {\n",
       "        text-align: right;\n",
       "    }\n",
       "</style>\n",
       "<table border=\"1\" class=\"dataframe\">\n",
       "  <thead>\n",
       "    <tr style=\"text-align: right;\">\n",
       "      <th></th>\n",
       "      <th>model</th>\n",
       "      <th>displ</th>\n",
       "      <th>cyl</th>\n",
       "      <th>trans</th>\n",
       "      <th>drive</th>\n",
       "      <th>fuel</th>\n",
       "      <th>veh_class</th>\n",
       "      <th>air_pollution_score</th>\n",
       "      <th>city_mpg</th>\n",
       "      <th>hwy_mpg</th>\n",
       "      <th>cmb_mpg</th>\n",
       "      <th>greenhouse_gas_score</th>\n",
       "      <th>smartway</th>\n",
       "    </tr>\n",
       "  </thead>\n",
       "  <tbody>\n",
       "    <tr>\n",
       "      <th>0</th>\n",
       "      <td>ACURA RDX</td>\n",
       "      <td>3.5</td>\n",
       "      <td>6.0</td>\n",
       "      <td>SemiAuto-6</td>\n",
       "      <td>2WD</td>\n",
       "      <td>Gasoline</td>\n",
       "      <td>small SUV</td>\n",
       "      <td>3</td>\n",
       "      <td>20</td>\n",
       "      <td>28</td>\n",
       "      <td>23</td>\n",
       "      <td>5</td>\n",
       "      <td>No</td>\n",
       "    </tr>\n",
       "    <tr>\n",
       "      <th>1</th>\n",
       "      <td>ACURA RDX</td>\n",
       "      <td>3.5</td>\n",
       "      <td>6.0</td>\n",
       "      <td>SemiAuto-6</td>\n",
       "      <td>4WD</td>\n",
       "      <td>Gasoline</td>\n",
       "      <td>small SUV</td>\n",
       "      <td>3</td>\n",
       "      <td>19</td>\n",
       "      <td>27</td>\n",
       "      <td>22</td>\n",
       "      <td>4</td>\n",
       "      <td>No</td>\n",
       "    </tr>\n",
       "  </tbody>\n",
       "</table>\n",
       "</div>"
      ],
      "text/plain": [
       "       model  displ  cyl       trans drive      fuel  veh_class  \\\n",
       "0  ACURA RDX    3.5  6.0  SemiAuto-6   2WD  Gasoline  small SUV   \n",
       "1  ACURA RDX    3.5  6.0  SemiAuto-6   4WD  Gasoline  small SUV   \n",
       "\n",
       "   air_pollution_score city_mpg hwy_mpg cmb_mpg  greenhouse_gas_score smartway  \n",
       "0                    3       20      28      23                     5       No  \n",
       "1                    3       19      27      22                     4       No  "
      ]
     },
     "execution_count": 103,
     "metadata": {},
     "output_type": "execute_result"
    }
   ],
   "source": [
    "fuel_18 = read('data_18_v2.csv')\n",
    "fuel_18.head(2)"
   ]
  },
  {
   "cell_type": "code",
   "execution_count": 104,
   "id": "fa4f6cf0",
   "metadata": {},
   "outputs": [
    {
     "name": "stdout",
     "output_type": "stream",
     "text": [
      "datatypes for the 2008 dataset\n",
      "model                    object\n",
      "displ                   float64\n",
      "cyl                      object\n",
      "trans                    object\n",
      "drive                    object\n",
      "fuel                     object\n",
      "veh_class                object\n",
      "air_pollution_score      object\n",
      "city_mpg                 object\n",
      "hwy_mpg                  object\n",
      "cmb_mpg                  object\n",
      "greenhouse_gas_score     object\n",
      "smartway                 object\n",
      "dtype: object\n",
      "************************************************************\n",
      "datatypes for the 2018 dataset\n",
      "model                    object\n",
      "displ                   float64\n",
      "cyl                     float64\n",
      "trans                    object\n",
      "drive                    object\n",
      "fuel                     object\n",
      "veh_class                object\n",
      "air_pollution_score       int64\n",
      "city_mpg                 object\n",
      "hwy_mpg                  object\n",
      "cmb_mpg                  object\n",
      "greenhouse_gas_score      int64\n",
      "smartway                 object\n",
      "dtype: object\n"
     ]
    }
   ],
   "source": [
    "print('datatypes for the 2008 dataset')\n",
    "print(fuel_08.dtypes)\n",
    "print('*'*60)\n",
    "print('datatypes for the 2018 dataset')\n",
    "print(fuel_18.dtypes)"
   ]
  },
  {
   "cell_type": "markdown",
   "id": "7cb3575c",
   "metadata": {},
   "source": [
    "From the analysis, we need to :\n",
    "1. Fix cyl datatype\n",
    "    2008: extract int from string.\n",
    "    2018: convert float to int.\n",
    "2. Fix air_pollution_score datatype\n",
    "    2008: convert string to float.\n",
    "    2018: convert int to float.\n",
    "3. Fix city_mpg, hwy_mpg, cmb_mpg datatypes\n",
    "    2008 and 2018: convert string to float.\n",
    "4. Fix greenhouse_gas_score datatype\n",
    "    2008: convert from float to int."
   ]
  },
  {
   "cell_type": "markdown",
   "id": "c0d3a80c",
   "metadata": {},
   "source": [
    "### Fixing the Datatypes"
   ]
  },
  {
   "cell_type": "markdown",
   "id": "46058800",
   "metadata": {},
   "source": [
    "#### Cyl Column"
   ]
  },
  {
   "cell_type": "code",
   "execution_count": 105,
   "id": "c650c487",
   "metadata": {},
   "outputs": [
    {
     "data": {
      "text/plain": [
       "(6 cyl)     409\n",
       "(4 cyl)     283\n",
       "(8 cyl)     199\n",
       "(5 cyl)      48\n",
       "(12 cyl)     30\n",
       "(10 cyl)     14\n",
       "(2 cyl)       2\n",
       "(16 cyl)      1\n",
       "Name: cyl, dtype: int64"
      ]
     },
     "execution_count": 105,
     "metadata": {},
     "output_type": "execute_result"
    }
   ],
   "source": [
    "# Lets  check value counts for the 2008 cyl column\n",
    "fuel_08['cyl'].value_counts()"
   ]
  },
  {
   "cell_type": "code",
   "execution_count": 106,
   "id": "a9473410",
   "metadata": {},
   "outputs": [],
   "source": [
    "# Lets extract int from strings in the 2008 cyl column\n",
    "fuel_08['cyl'] = fuel_08['cyl'].str.extract('(\\d+)').astype(int)"
   ]
  },
  {
   "cell_type": "code",
   "execution_count": 107,
   "id": "e16ec8e8",
   "metadata": {},
   "outputs": [
    {
     "data": {
      "text/plain": [
       "6     409\n",
       "4     283\n",
       "8     199\n",
       "5      48\n",
       "12     30\n",
       "10     14\n",
       "2       2\n",
       "16      1\n",
       "Name: cyl, dtype: int64"
      ]
     },
     "execution_count": 107,
     "metadata": {},
     "output_type": "execute_result"
    }
   ],
   "source": [
    "# Lets check value counts for 2008 cyl column again to confirm the change\n",
    "fuel_08.cyl.value_counts()"
   ]
  },
  {
   "cell_type": "code",
   "execution_count": 108,
   "id": "9707b946",
   "metadata": {},
   "outputs": [],
   "source": [
    "# Lets convert 2018 cyl column to int\n",
    "fuel_18['cyl'] = fuel_18['cyl'].astype(int)"
   ]
  },
  {
   "cell_type": "code",
   "execution_count": 109,
   "id": "78cfd2d1",
   "metadata": {},
   "outputs": [
    {
     "data": {
      "text/plain": [
       "dtype('int32')"
      ]
     },
     "execution_count": 109,
     "metadata": {},
     "output_type": "execute_result"
    }
   ],
   "source": [
    "# Lets confirm the data type\n",
    "fuel_18['cyl'].dtypes"
   ]
  },
  {
   "cell_type": "markdown",
   "id": "6f7a6d8d",
   "metadata": {},
   "source": [
    "#### Air Pollution Column"
   ]
  },
  {
   "cell_type": "code",
   "execution_count": 110,
   "id": "e818d4f1",
   "metadata": {},
   "outputs": [
    {
     "data": {
      "text/plain": [
       "6      500\n",
       "7      398\n",
       "9.5     80\n",
       "9        7\n",
       "6/4      1\n",
       "Name: air_pollution_score, dtype: int64"
      ]
     },
     "execution_count": 110,
     "metadata": {},
     "output_type": "execute_result"
    }
   ],
   "source": [
    "# Lets view the unique values\n",
    "fuel_08['air_pollution_score'].value_counts()"
   ]
  },
  {
   "cell_type": "markdown",
   "id": "eb8e3528",
   "metadata": {},
   "source": [
    "The values in one of the columns is '6/4' which could be the problem we are having the datatype as string instead of float."
   ]
  },
  {
   "cell_type": "code",
   "execution_count": 111,
   "id": "d087aacc",
   "metadata": {},
   "outputs": [
    {
     "data": {
      "text/html": [
       "<div>\n",
       "<style scoped>\n",
       "    .dataframe tbody tr th:only-of-type {\n",
       "        vertical-align: middle;\n",
       "    }\n",
       "\n",
       "    .dataframe tbody tr th {\n",
       "        vertical-align: top;\n",
       "    }\n",
       "\n",
       "    .dataframe thead th {\n",
       "        text-align: right;\n",
       "    }\n",
       "</style>\n",
       "<table border=\"1\" class=\"dataframe\">\n",
       "  <thead>\n",
       "    <tr style=\"text-align: right;\">\n",
       "      <th></th>\n",
       "      <th>model</th>\n",
       "      <th>displ</th>\n",
       "      <th>cyl</th>\n",
       "      <th>trans</th>\n",
       "      <th>drive</th>\n",
       "      <th>fuel</th>\n",
       "      <th>veh_class</th>\n",
       "      <th>air_pollution_score</th>\n",
       "      <th>city_mpg</th>\n",
       "      <th>hwy_mpg</th>\n",
       "      <th>cmb_mpg</th>\n",
       "      <th>greenhouse_gas_score</th>\n",
       "      <th>smartway</th>\n",
       "    </tr>\n",
       "  </thead>\n",
       "  <tbody>\n",
       "    <tr>\n",
       "      <th>582</th>\n",
       "      <td>MERCEDES-BENZ C300</td>\n",
       "      <td>3.0</td>\n",
       "      <td>6</td>\n",
       "      <td>Auto-L7</td>\n",
       "      <td>2WD</td>\n",
       "      <td>ethanol/gas</td>\n",
       "      <td>small car</td>\n",
       "      <td>6/4</td>\n",
       "      <td>13/18</td>\n",
       "      <td>19/25</td>\n",
       "      <td>15/21</td>\n",
       "      <td>7/6</td>\n",
       "      <td>no</td>\n",
       "    </tr>\n",
       "  </tbody>\n",
       "</table>\n",
       "</div>"
      ],
      "text/plain": [
       "                  model  displ  cyl    trans drive         fuel  veh_class  \\\n",
       "582  MERCEDES-BENZ C300    3.0    6  Auto-L7   2WD  ethanol/gas  small car   \n",
       "\n",
       "    air_pollution_score city_mpg hwy_mpg cmb_mpg greenhouse_gas_score smartway  \n",
       "582                 6/4    13/18   19/25   15/21                  7/6       no  "
      ]
     },
     "execution_count": 111,
     "metadata": {},
     "output_type": "execute_result"
    }
   ],
   "source": [
    "# Lets preview the row\n",
    "\n",
    "hybrid_08 = fuel_08[fuel_08['air_pollution_score']=='6/4']\n",
    "hybrid_08"
   ]
  },
  {
   "cell_type": "markdown",
   "id": "6b075e4a",
   "metadata": {},
   "source": [
    " All vehicles with more than one fuel type, or hybrids, like the one above (it uses ethanol AND gas) will have a string that holds two values - one for each."
   ]
  },
  {
   "cell_type": "code",
   "execution_count": 112,
   "id": "d640cca1",
   "metadata": {},
   "outputs": [
    {
     "data": {
      "text/plain": [
       "(38, 13)"
      ]
     },
     "execution_count": 112,
     "metadata": {},
     "output_type": "execute_result"
    }
   ],
   "source": [
    "# Lets inspect if the 2018 dataset has hybrids\n",
    "hybrid_18 = fuel_18[fuel_18['fuel'].str.contains('/')]\n",
    "hybrid_18.shape"
   ]
  },
  {
   "cell_type": "markdown",
   "id": "1bf73069",
   "metadata": {},
   "source": [
    "We're going to take each hybrid row and split them into two new rows - one with values for the first fuel type (values before the \"/\"), and the other with values for the second fuel type (values after the \"/\"). Let's separate them with two dataframes!"
   ]
  },
  {
   "cell_type": "code",
   "execution_count": 113,
   "id": "9956608e",
   "metadata": {},
   "outputs": [
    {
     "data": {
      "text/html": [
       "<div>\n",
       "<style scoped>\n",
       "    .dataframe tbody tr th:only-of-type {\n",
       "        vertical-align: middle;\n",
       "    }\n",
       "\n",
       "    .dataframe tbody tr th {\n",
       "        vertical-align: top;\n",
       "    }\n",
       "\n",
       "    .dataframe thead th {\n",
       "        text-align: right;\n",
       "    }\n",
       "</style>\n",
       "<table border=\"1\" class=\"dataframe\">\n",
       "  <thead>\n",
       "    <tr style=\"text-align: right;\">\n",
       "      <th></th>\n",
       "      <th>model</th>\n",
       "      <th>displ</th>\n",
       "      <th>cyl</th>\n",
       "      <th>trans</th>\n",
       "      <th>drive</th>\n",
       "      <th>fuel</th>\n",
       "      <th>veh_class</th>\n",
       "      <th>air_pollution_score</th>\n",
       "      <th>city_mpg</th>\n",
       "      <th>hwy_mpg</th>\n",
       "      <th>cmb_mpg</th>\n",
       "      <th>greenhouse_gas_score</th>\n",
       "      <th>smartway</th>\n",
       "    </tr>\n",
       "  </thead>\n",
       "  <tbody>\n",
       "    <tr>\n",
       "      <th>582</th>\n",
       "      <td>MERCEDES-BENZ C300</td>\n",
       "      <td>3.0</td>\n",
       "      <td>6</td>\n",
       "      <td>Auto-L7</td>\n",
       "      <td>2WD</td>\n",
       "      <td>ethanol/gas</td>\n",
       "      <td>small car</td>\n",
       "      <td>6/4</td>\n",
       "      <td>13/18</td>\n",
       "      <td>19/25</td>\n",
       "      <td>15/21</td>\n",
       "      <td>7/6</td>\n",
       "      <td>no</td>\n",
       "    </tr>\n",
       "  </tbody>\n",
       "</table>\n",
       "</div>"
      ],
      "text/plain": [
       "                  model  displ  cyl    trans drive         fuel  veh_class  \\\n",
       "582  MERCEDES-BENZ C300    3.0    6  Auto-L7   2WD  ethanol/gas  small car   \n",
       "\n",
       "    air_pollution_score city_mpg hwy_mpg cmb_mpg greenhouse_gas_score smartway  \n",
       "582                 6/4    13/18   19/25   15/21                  7/6       no  "
      ]
     },
     "execution_count": 113,
     "metadata": {},
     "output_type": "execute_result"
    }
   ],
   "source": [
    "# Lets create two copies of the 2008 hybrids dataframe\n",
    "df1 = hybrid_08.copy()  # data on first fuel type of each hybrid vehicle\n",
    "df2 = hybrid_08.copy()  # data on second fuel type of each hybrid vehicle\n",
    "\n",
    "# Each one should look like this\n",
    "df1"
   ]
  },
  {
   "cell_type": "markdown",
   "id": "ce3f294f",
   "metadata": {},
   "source": [
    "#### 'City_mpg, hwy_mpg & cmb_mpg' columns"
   ]
  },
  {
   "cell_type": "code",
   "execution_count": 114,
   "id": "e4a7e73c",
   "metadata": {},
   "outputs": [],
   "source": [
    "# Columns to split by \"/\"\n",
    "split_columns = ['fuel', 'air_pollution_score', 'city_mpg', 'hwy_mpg', 'cmb_mpg', 'greenhouse_gas_score']\n",
    "\n",
    "# Lets apply split function to each column of each dataframe copy\n",
    "for c in split_columns:\n",
    "    df1[c] = df1[c].apply(lambda x: x.split(\"/\")[0])\n",
    "    df2[c] = df2[c].apply(lambda x: x.split(\"/\")[1])"
   ]
  },
  {
   "cell_type": "code",
   "execution_count": 115,
   "id": "41ee8055",
   "metadata": {},
   "outputs": [
    {
     "data": {
      "text/html": [
       "<div>\n",
       "<style scoped>\n",
       "    .dataframe tbody tr th:only-of-type {\n",
       "        vertical-align: middle;\n",
       "    }\n",
       "\n",
       "    .dataframe tbody tr th {\n",
       "        vertical-align: top;\n",
       "    }\n",
       "\n",
       "    .dataframe thead th {\n",
       "        text-align: right;\n",
       "    }\n",
       "</style>\n",
       "<table border=\"1\" class=\"dataframe\">\n",
       "  <thead>\n",
       "    <tr style=\"text-align: right;\">\n",
       "      <th></th>\n",
       "      <th>model</th>\n",
       "      <th>displ</th>\n",
       "      <th>cyl</th>\n",
       "      <th>trans</th>\n",
       "      <th>drive</th>\n",
       "      <th>fuel</th>\n",
       "      <th>veh_class</th>\n",
       "      <th>air_pollution_score</th>\n",
       "      <th>city_mpg</th>\n",
       "      <th>hwy_mpg</th>\n",
       "      <th>cmb_mpg</th>\n",
       "      <th>greenhouse_gas_score</th>\n",
       "      <th>smartway</th>\n",
       "    </tr>\n",
       "  </thead>\n",
       "  <tbody>\n",
       "    <tr>\n",
       "      <th>582</th>\n",
       "      <td>MERCEDES-BENZ C300</td>\n",
       "      <td>3.0</td>\n",
       "      <td>6</td>\n",
       "      <td>Auto-L7</td>\n",
       "      <td>2WD</td>\n",
       "      <td>ethanol</td>\n",
       "      <td>small car</td>\n",
       "      <td>6</td>\n",
       "      <td>13</td>\n",
       "      <td>19</td>\n",
       "      <td>15</td>\n",
       "      <td>7</td>\n",
       "      <td>no</td>\n",
       "    </tr>\n",
       "  </tbody>\n",
       "</table>\n",
       "</div>"
      ],
      "text/plain": [
       "                  model  displ  cyl    trans drive     fuel  veh_class  \\\n",
       "582  MERCEDES-BENZ C300    3.0    6  Auto-L7   2WD  ethanol  small car   \n",
       "\n",
       "    air_pollution_score city_mpg hwy_mpg cmb_mpg greenhouse_gas_score smartway  \n",
       "582                   6       13      19      15                    7       no  "
      ]
     },
     "execution_count": 115,
     "metadata": {},
     "output_type": "execute_result"
    }
   ],
   "source": [
    "# Lets preview how the datasets have been split\n",
    "df1"
   ]
  },
  {
   "cell_type": "code",
   "execution_count": 116,
   "id": "108abaae",
   "metadata": {},
   "outputs": [
    {
     "data": {
      "text/html": [
       "<div>\n",
       "<style scoped>\n",
       "    .dataframe tbody tr th:only-of-type {\n",
       "        vertical-align: middle;\n",
       "    }\n",
       "\n",
       "    .dataframe tbody tr th {\n",
       "        vertical-align: top;\n",
       "    }\n",
       "\n",
       "    .dataframe thead th {\n",
       "        text-align: right;\n",
       "    }\n",
       "</style>\n",
       "<table border=\"1\" class=\"dataframe\">\n",
       "  <thead>\n",
       "    <tr style=\"text-align: right;\">\n",
       "      <th></th>\n",
       "      <th>model</th>\n",
       "      <th>displ</th>\n",
       "      <th>cyl</th>\n",
       "      <th>trans</th>\n",
       "      <th>drive</th>\n",
       "      <th>fuel</th>\n",
       "      <th>veh_class</th>\n",
       "      <th>air_pollution_score</th>\n",
       "      <th>city_mpg</th>\n",
       "      <th>hwy_mpg</th>\n",
       "      <th>cmb_mpg</th>\n",
       "      <th>greenhouse_gas_score</th>\n",
       "      <th>smartway</th>\n",
       "    </tr>\n",
       "  </thead>\n",
       "  <tbody>\n",
       "    <tr>\n",
       "      <th>582</th>\n",
       "      <td>MERCEDES-BENZ C300</td>\n",
       "      <td>3.0</td>\n",
       "      <td>6</td>\n",
       "      <td>Auto-L7</td>\n",
       "      <td>2WD</td>\n",
       "      <td>gas</td>\n",
       "      <td>small car</td>\n",
       "      <td>4</td>\n",
       "      <td>18</td>\n",
       "      <td>25</td>\n",
       "      <td>21</td>\n",
       "      <td>6</td>\n",
       "      <td>no</td>\n",
       "    </tr>\n",
       "  </tbody>\n",
       "</table>\n",
       "</div>"
      ],
      "text/plain": [
       "                  model  displ  cyl    trans drive fuel  veh_class  \\\n",
       "582  MERCEDES-BENZ C300    3.0    6  Auto-L7   2WD  gas  small car   \n",
       "\n",
       "    air_pollution_score city_mpg hwy_mpg cmb_mpg greenhouse_gas_score smartway  \n",
       "582                   4       18      25      21                    6       no  "
      ]
     },
     "execution_count": 116,
     "metadata": {},
     "output_type": "execute_result"
    }
   ],
   "source": [
    "df2"
   ]
  },
  {
   "cell_type": "code",
   "execution_count": 117,
   "id": "bc41eb0f",
   "metadata": {},
   "outputs": [
    {
     "data": {
      "text/html": [
       "<div>\n",
       "<style scoped>\n",
       "    .dataframe tbody tr th:only-of-type {\n",
       "        vertical-align: middle;\n",
       "    }\n",
       "\n",
       "    .dataframe tbody tr th {\n",
       "        vertical-align: top;\n",
       "    }\n",
       "\n",
       "    .dataframe thead th {\n",
       "        text-align: right;\n",
       "    }\n",
       "</style>\n",
       "<table border=\"1\" class=\"dataframe\">\n",
       "  <thead>\n",
       "    <tr style=\"text-align: right;\">\n",
       "      <th></th>\n",
       "      <th>model</th>\n",
       "      <th>displ</th>\n",
       "      <th>cyl</th>\n",
       "      <th>trans</th>\n",
       "      <th>drive</th>\n",
       "      <th>fuel</th>\n",
       "      <th>veh_class</th>\n",
       "      <th>air_pollution_score</th>\n",
       "      <th>city_mpg</th>\n",
       "      <th>hwy_mpg</th>\n",
       "      <th>cmb_mpg</th>\n",
       "      <th>greenhouse_gas_score</th>\n",
       "      <th>smartway</th>\n",
       "    </tr>\n",
       "  </thead>\n",
       "  <tbody>\n",
       "    <tr>\n",
       "      <th>582</th>\n",
       "      <td>MERCEDES-BENZ C300</td>\n",
       "      <td>3.0</td>\n",
       "      <td>6</td>\n",
       "      <td>Auto-L7</td>\n",
       "      <td>2WD</td>\n",
       "      <td>ethanol</td>\n",
       "      <td>small car</td>\n",
       "      <td>6</td>\n",
       "      <td>13</td>\n",
       "      <td>19</td>\n",
       "      <td>15</td>\n",
       "      <td>7</td>\n",
       "      <td>no</td>\n",
       "    </tr>\n",
       "    <tr>\n",
       "      <th>582</th>\n",
       "      <td>MERCEDES-BENZ C300</td>\n",
       "      <td>3.0</td>\n",
       "      <td>6</td>\n",
       "      <td>Auto-L7</td>\n",
       "      <td>2WD</td>\n",
       "      <td>gas</td>\n",
       "      <td>small car</td>\n",
       "      <td>4</td>\n",
       "      <td>18</td>\n",
       "      <td>25</td>\n",
       "      <td>21</td>\n",
       "      <td>6</td>\n",
       "      <td>no</td>\n",
       "    </tr>\n",
       "  </tbody>\n",
       "</table>\n",
       "</div>"
      ],
      "text/plain": [
       "                  model  displ  cyl    trans drive     fuel  veh_class  \\\n",
       "582  MERCEDES-BENZ C300    3.0    6  Auto-L7   2WD  ethanol  small car   \n",
       "582  MERCEDES-BENZ C300    3.0    6  Auto-L7   2WD      gas  small car   \n",
       "\n",
       "    air_pollution_score city_mpg hwy_mpg cmb_mpg greenhouse_gas_score smartway  \n",
       "582                   6       13      19      15                    7       no  \n",
       "582                   4       18      25      21                    6       no  "
      ]
     },
     "execution_count": 117,
     "metadata": {},
     "output_type": "execute_result"
    }
   ],
   "source": [
    "# Lets combine dataframes to add to the original dataframe\n",
    "new_rows = df1.append(df2)\n",
    "\n",
    "# now we have separate rows for each fuel type of each vehicle!\n",
    "new_rows"
   ]
  },
  {
   "cell_type": "code",
   "execution_count": 118,
   "id": "2be80b92",
   "metadata": {},
   "outputs": [],
   "source": [
    "# Lets drop the original hybrid rows\n",
    "fuel_08.drop(hybrid_08.index, inplace=True)\n",
    "\n",
    "# add in our newly separated rows\n",
    "fuel_08 = fuel_08.append(new_rows, ignore_index=True)"
   ]
  },
  {
   "cell_type": "code",
   "execution_count": 119,
   "id": "13fcb24d",
   "metadata": {},
   "outputs": [
    {
     "data": {
      "text/html": [
       "<div>\n",
       "<style scoped>\n",
       "    .dataframe tbody tr th:only-of-type {\n",
       "        vertical-align: middle;\n",
       "    }\n",
       "\n",
       "    .dataframe tbody tr th {\n",
       "        vertical-align: top;\n",
       "    }\n",
       "\n",
       "    .dataframe thead th {\n",
       "        text-align: right;\n",
       "    }\n",
       "</style>\n",
       "<table border=\"1\" class=\"dataframe\">\n",
       "  <thead>\n",
       "    <tr style=\"text-align: right;\">\n",
       "      <th></th>\n",
       "      <th>model</th>\n",
       "      <th>displ</th>\n",
       "      <th>cyl</th>\n",
       "      <th>trans</th>\n",
       "      <th>drive</th>\n",
       "      <th>fuel</th>\n",
       "      <th>veh_class</th>\n",
       "      <th>air_pollution_score</th>\n",
       "      <th>city_mpg</th>\n",
       "      <th>hwy_mpg</th>\n",
       "      <th>cmb_mpg</th>\n",
       "      <th>greenhouse_gas_score</th>\n",
       "      <th>smartway</th>\n",
       "    </tr>\n",
       "  </thead>\n",
       "  <tbody>\n",
       "  </tbody>\n",
       "</table>\n",
       "</div>"
      ],
      "text/plain": [
       "Empty DataFrame\n",
       "Columns: [model, displ, cyl, trans, drive, fuel, veh_class, air_pollution_score, city_mpg, hwy_mpg, cmb_mpg, greenhouse_gas_score, smartway]\n",
       "Index: []"
      ]
     },
     "execution_count": 119,
     "metadata": {},
     "output_type": "execute_result"
    }
   ],
   "source": [
    "# Lets check that all the original hybrid rows with \"/\"s are gone\n",
    "fuel_08[fuel_08['fuel'].str.contains('/')]"
   ]
  },
  {
   "cell_type": "markdown",
   "id": "b09c7e1a",
   "metadata": {},
   "source": [
    "#### Lets split the rows for the 2018 column"
   ]
  },
  {
   "cell_type": "code",
   "execution_count": 120,
   "id": "7a238aa8",
   "metadata": {},
   "outputs": [],
   "source": [
    "# Lets create two copies of the 2018 hybrids dataframe, hb_18\n",
    "df1 = hybrid_18.copy()\n",
    "df2 = hybrid_18.copy()"
   ]
  },
  {
   "cell_type": "code",
   "execution_count": 121,
   "id": "3bad96dd",
   "metadata": {},
   "outputs": [
    {
     "data": {
      "text/html": [
       "<div>\n",
       "<style scoped>\n",
       "    .dataframe tbody tr th:only-of-type {\n",
       "        vertical-align: middle;\n",
       "    }\n",
       "\n",
       "    .dataframe tbody tr th {\n",
       "        vertical-align: top;\n",
       "    }\n",
       "\n",
       "    .dataframe thead th {\n",
       "        text-align: right;\n",
       "    }\n",
       "</style>\n",
       "<table border=\"1\" class=\"dataframe\">\n",
       "  <thead>\n",
       "    <tr style=\"text-align: right;\">\n",
       "      <th></th>\n",
       "      <th>model</th>\n",
       "      <th>displ</th>\n",
       "      <th>cyl</th>\n",
       "      <th>trans</th>\n",
       "      <th>drive</th>\n",
       "      <th>fuel</th>\n",
       "      <th>veh_class</th>\n",
       "      <th>air_pollution_score</th>\n",
       "      <th>city_mpg</th>\n",
       "      <th>hwy_mpg</th>\n",
       "      <th>cmb_mpg</th>\n",
       "      <th>greenhouse_gas_score</th>\n",
       "      <th>smartway</th>\n",
       "    </tr>\n",
       "  </thead>\n",
       "  <tbody>\n",
       "    <tr>\n",
       "      <th>52</th>\n",
       "      <td>BMW 330e</td>\n",
       "      <td>2.0</td>\n",
       "      <td>4</td>\n",
       "      <td>SemiAuto-8</td>\n",
       "      <td>2WD</td>\n",
       "      <td>Gasoline/Electricity</td>\n",
       "      <td>small car</td>\n",
       "      <td>3</td>\n",
       "      <td>28/66</td>\n",
       "      <td>34/78</td>\n",
       "      <td>30/71</td>\n",
       "      <td>10</td>\n",
       "      <td>Yes</td>\n",
       "    </tr>\n",
       "    <tr>\n",
       "      <th>78</th>\n",
       "      <td>BMW 530e</td>\n",
       "      <td>2.0</td>\n",
       "      <td>4</td>\n",
       "      <td>SemiAuto-8</td>\n",
       "      <td>2WD</td>\n",
       "      <td>Gasoline/Electricity</td>\n",
       "      <td>small car</td>\n",
       "      <td>7</td>\n",
       "      <td>27/70</td>\n",
       "      <td>31/75</td>\n",
       "      <td>29/72</td>\n",
       "      <td>10</td>\n",
       "      <td>Elite</td>\n",
       "    </tr>\n",
       "  </tbody>\n",
       "</table>\n",
       "</div>"
      ],
      "text/plain": [
       "       model  displ  cyl       trans drive                  fuel  veh_class  \\\n",
       "52  BMW 330e    2.0    4  SemiAuto-8   2WD  Gasoline/Electricity  small car   \n",
       "78  BMW 530e    2.0    4  SemiAuto-8   2WD  Gasoline/Electricity  small car   \n",
       "\n",
       "    air_pollution_score city_mpg hwy_mpg cmb_mpg  greenhouse_gas_score  \\\n",
       "52                    3    28/66   34/78   30/71                    10   \n",
       "78                    7    27/70   31/75   29/72                    10   \n",
       "\n",
       "   smartway  \n",
       "52      Yes  \n",
       "78    Elite  "
      ]
     },
     "execution_count": 121,
     "metadata": {},
     "output_type": "execute_result"
    }
   ],
   "source": [
    "# Lets find the list of columns to split\n",
    "df1.head(2)"
   ]
  },
  {
   "cell_type": "code",
   "execution_count": 122,
   "id": "d8f104f1",
   "metadata": {},
   "outputs": [],
   "source": [
    "# Specify columns to split\n",
    "split = ['fuel','city_mpg','hwy_mpg','cmb_mpg']\n",
    "\n",
    "for c in split:\n",
    "    df1[c] = df1[c].apply(lambda x : x.split('/')[0])\n",
    "    df2[c] = df2[c].apply(lambda x : x.split('/')[1])"
   ]
  },
  {
   "cell_type": "code",
   "execution_count": 123,
   "id": "57e3aa12",
   "metadata": {},
   "outputs": [],
   "source": [
    "# Lets append the two dataframes\n",
    "new_rows = df1.append(df2)\n",
    "\n",
    "# drop each hybrid row from the original 2018 dataframe\n",
    "# do this by using pandas' drop function with hb_18's index\n",
    "fuel_18.drop(hybrid_18.index, inplace=True)\n",
    "\n",
    "# append new_rows to df_18\n",
    "fuel_18 = fuel_18.append(new_rows,ignore_index= True)"
   ]
  },
  {
   "cell_type": "code",
   "execution_count": 125,
   "id": "e0a8f39a",
   "metadata": {},
   "outputs": [
    {
     "data": {
      "text/html": [
       "<div>\n",
       "<style scoped>\n",
       "    .dataframe tbody tr th:only-of-type {\n",
       "        vertical-align: middle;\n",
       "    }\n",
       "\n",
       "    .dataframe tbody tr th {\n",
       "        vertical-align: top;\n",
       "    }\n",
       "\n",
       "    .dataframe thead th {\n",
       "        text-align: right;\n",
       "    }\n",
       "</style>\n",
       "<table border=\"1\" class=\"dataframe\">\n",
       "  <thead>\n",
       "    <tr style=\"text-align: right;\">\n",
       "      <th></th>\n",
       "      <th>model</th>\n",
       "      <th>displ</th>\n",
       "      <th>cyl</th>\n",
       "      <th>trans</th>\n",
       "      <th>drive</th>\n",
       "      <th>fuel</th>\n",
       "      <th>veh_class</th>\n",
       "      <th>air_pollution_score</th>\n",
       "      <th>city_mpg</th>\n",
       "      <th>hwy_mpg</th>\n",
       "      <th>cmb_mpg</th>\n",
       "      <th>greenhouse_gas_score</th>\n",
       "      <th>smartway</th>\n",
       "    </tr>\n",
       "  </thead>\n",
       "  <tbody>\n",
       "  </tbody>\n",
       "</table>\n",
       "</div>"
      ],
      "text/plain": [
       "Empty DataFrame\n",
       "Columns: [model, displ, cyl, trans, drive, fuel, veh_class, air_pollution_score, city_mpg, hwy_mpg, cmb_mpg, greenhouse_gas_score, smartway]\n",
       "Index: []"
      ]
     },
     "execution_count": 125,
     "metadata": {},
     "output_type": "execute_result"
    }
   ],
   "source": [
    "# Confirm that they're gone\n",
    "fuel_18[fuel_18['fuel'].str.contains('/')]"
   ]
  },
  {
   "cell_type": "code",
   "execution_count": 152,
   "id": "cef2b375",
   "metadata": {},
   "outputs": [],
   "source": [
    "# Convert int to float for 2018 air pollution column\n",
    "fuel_08['air_pollution_score'] = fuel_08['air_pollution_score'].astype(float)\n",
    "fuel_18['air_pollution_score'] = fuel_18['air_pollution_score'].astype(float)"
   ]
  },
  {
   "cell_type": "code",
   "execution_count": 155,
   "id": "e8b35bc9",
   "metadata": {},
   "outputs": [],
   "source": [
    "# Change the city,highway and combined mpg to floats\n",
    "\n",
    "fuel_08['city_mpg'] = fuel_08['city_mpg'].astype(float)\n",
    "fuel_08['hwy_mpg'] = fuel_08['hwy_mpg'].astype(float)\n",
    "fuel_08['cmb_mpg'] = fuel_08['cmb_mpg'].astype(float)\n",
    "\n",
    "fuel_18['city_mpg'] = fuel_18['city_mpg'].astype(float)\n",
    "fuel_18['hwy_mpg'] = fuel_18['hwy_mpg'].astype(float)\n",
    "fuel_18['cmb_mpg'] = fuel_18['cmb_mpg'].astype(float)"
   ]
  },
  {
   "cell_type": "markdown",
   "id": "5b16e3e6",
   "metadata": {},
   "source": [
    "#### Greenhouse_gas_score column"
   ]
  },
  {
   "cell_type": "code",
   "execution_count": 149,
   "id": "99a3d076",
   "metadata": {},
   "outputs": [],
   "source": [
    "# convert from float to int\n",
    "\n",
    "# Converts from float to int32\n",
    "# fuel_08['greenhouse_gas_score'] = fuel_08['greenhouse_gas_score'].astype(int)\n",
    "\n",
    "# Converts from int32 to int64\n",
    "fuel_08 = fuel_08.astype({'greenhouse_gas_score': np.dtype('int64')})"
   ]
  },
  {
   "cell_type": "code",
   "execution_count": 156,
   "id": "fb0d155d",
   "metadata": {},
   "outputs": [
    {
     "data": {
      "text/plain": [
       "model                    object\n",
       "displ                   float64\n",
       "cyl                       int32\n",
       "trans                    object\n",
       "drive                    object\n",
       "fuel                     object\n",
       "veh_class                object\n",
       "air_pollution_score     float64\n",
       "city_mpg                float64\n",
       "hwy_mpg                 float64\n",
       "cmb_mpg                 float64\n",
       "greenhouse_gas_score      int64\n",
       "smartway                 object\n",
       "dtype: object"
      ]
     },
     "execution_count": 156,
     "metadata": {},
     "output_type": "execute_result"
    }
   ],
   "source": [
    "fuel_08.dtypes"
   ]
  },
  {
   "cell_type": "code",
   "execution_count": 157,
   "id": "ef34d26c",
   "metadata": {},
   "outputs": [
    {
     "data": {
      "text/plain": [
       "model                    object\n",
       "displ                   float64\n",
       "cyl                       int32\n",
       "trans                    object\n",
       "drive                    object\n",
       "fuel                     object\n",
       "veh_class                object\n",
       "air_pollution_score     float64\n",
       "city_mpg                float64\n",
       "hwy_mpg                 float64\n",
       "cmb_mpg                 float64\n",
       "greenhouse_gas_score      int64\n",
       "smartway                 object\n",
       "dtype: object"
      ]
     },
     "execution_count": 157,
     "metadata": {},
     "output_type": "execute_result"
    }
   ],
   "source": [
    "fuel_18.dtypes"
   ]
  },
  {
   "cell_type": "code",
   "execution_count": 158,
   "id": "93d5022b",
   "metadata": {},
   "outputs": [
    {
     "data": {
      "text/plain": [
       "model                   True\n",
       "displ                   True\n",
       "cyl                     True\n",
       "trans                   True\n",
       "drive                   True\n",
       "fuel                    True\n",
       "veh_class               True\n",
       "air_pollution_score     True\n",
       "city_mpg                True\n",
       "hwy_mpg                 True\n",
       "cmb_mpg                 True\n",
       "greenhouse_gas_score    True\n",
       "smartway                True\n",
       "dtype: bool"
      ]
     },
     "execution_count": 158,
     "metadata": {},
     "output_type": "execute_result"
    }
   ],
   "source": [
    "# Lets confirm if the datatypes have any inconsistencies now\n",
    "fuel_08.dtypes == fuel_18.dtypes"
   ]
  },
  {
   "cell_type": "markdown",
   "id": "715fb7ca",
   "metadata": {},
   "source": [
    "# 6. Exploratory Data Analysis\n",
    "\n",
    "1. Lets compare the distribution of greenhouse gas score in 2008 and 2018.\n",
    "2. How has the distribution of combined mpg changed from 2008 to 2018?\n",
    "3. Describe the correlation between displacement and combined mpg.\n",
    "4. Describe the correlation between greenhouse gas score and combined mpg."
   ]
  },
  {
   "cell_type": "code",
   "execution_count": 166,
   "id": "e68354c0",
   "metadata": {},
   "outputs": [
    {
     "data": {
      "text/plain": [
       "<Figure size 1000x300 with 0 Axes>"
      ]
     },
     "metadata": {},
     "output_type": "display_data"
    },
    {
     "data": {
      "image/png": "[encoded data removed]",
      "text/plain": [
       "<Figure size 360x360 with 1 Axes>"
      ]
     },
     "metadata": {
      "needs_background": "light"
     },
     "output_type": "display_data"
    }
   ],
   "source": [
    "plt.figure(figsize = (10,3), dpi=100)\n",
    "sns.displot(fuel_08['greenhouse_gas_score'], kde = True, color = 'indigo')\n",
    "plt.title(f\"Histogram showing greenhouse gas score distribution in 2008\", color = 'Black');"
   ]
  },
  {
   "cell_type": "code",
   "execution_count": 176,
   "id": "96c77c88",
   "metadata": {},
   "outputs": [
    {
     "data": {
      "text/plain": [
       "<Figure size 1000x300 with 0 Axes>"
      ]
     },
     "metadata": {},
     "output_type": "display_data"
    },
    {
     "data": {
      "image/png": "[encoded data removed]",
      "text/plain": [
       "<Figure size 360x360 with 1 Axes>"
      ]
     },
     "metadata": {
      "needs_background": "light"
     },
     "output_type": "display_data"
    }
   ],
   "source": [
    "plt.figure(figsize = (10,3),dpi = 100)\n",
    "sns.displot(fuel_18['greenhouse_gas_score'],kde=True,color = 'green')\n",
    "plt.title(f\"Histogram showing greenhouse gas score distribution in 2018\", color = 'black');"
   ]
  },
  {
   "cell_type": "markdown",
   "id": "9453dacf",
   "metadata": {},
   "source": [
    "##### From the visuals we can deduce that distribution for 2008 is more skewed to the left."
   ]
  },
  {
   "cell_type": "markdown",
   "id": "e70c6a00",
   "metadata": {},
   "source": [
    "#### 2. How has the distribution of combined mpg changed from 2008 to 2018?"
   ]
  },
  {
   "cell_type": "code",
   "execution_count": 178,
   "id": "d5df3e24",
   "metadata": {},
   "outputs": [
    {
     "data": {
      "text/plain": [
       "<Figure size 1000x300 with 0 Axes>"
      ]
     },
     "metadata": {},
     "output_type": "display_data"
    },
    {
     "data": {
      "image/png": "[encoded data removed]",
      "text/plain": [
       "<Figure size 360x360 with 1 Axes>"
      ]
     },
     "metadata": {
      "needs_background": "light"
     },
     "output_type": "display_data"
    }
   ],
   "source": [
    "plt.figure(figsize = (10,3),dpi = 100)\n",
    "sns.displot(fuel_08['cmb_mpg'],kde=True,color='blue')\n",
    "plt.title(f\"Histogram showing greenhouse gas score distribution in 2008\",color='black');"
   ]
  },
  {
   "cell_type": "code",
   "execution_count": 181,
   "id": "4516fcbe",
   "metadata": {},
   "outputs": [
    {
     "data": {
      "text/plain": [
       "<Figure size 1000x300 with 0 Axes>"
      ]
     },
     "metadata": {},
     "output_type": "display_data"
    },
    {
     "data": {
      "image/png": "[encoded data removed]",
      "text/plain": [
       "<Figure size 360x360 with 1 Axes>"
      ]
     },
     "metadata": {
      "needs_background": "light"
     },
     "output_type": "display_data"
    }
   ],
   "source": [
    "plt.figure(figsize=(10,3),dpi=100)\n",
    "sns.displot(fuel_18['cmb_mpg'],kde=True,color='blue')\n",
    "plt.title('f\"Histogram showing combined miles per gallon distribution in 2018\"');"
   ]
  },
  {
   "cell_type": "markdown",
   "id": "865039a0",
   "metadata": {},
   "source": [
    "##### The distribution of compined mpg became more skewed to the right from 2008 - 2018."
   ]
  },
  {
   "cell_type": "markdown",
   "id": "574dd5b8",
   "metadata": {},
   "source": [
    "#### 3.  Describe the correlation between displacement and combined mpg."
   ]
  },
  {
   "cell_type": "code",
   "execution_count": 182,
   "id": "689ce065",
   "metadata": {},
   "outputs": [
    {
     "data": {
      "image/png": "[encoded data removed]",
      "text/plain": [
       "<Figure size 432x288 with 1 Axes>"
      ]
     },
     "metadata": {
      "needs_background": "light"
     },
     "output_type": "display_data"
    }
   ],
   "source": [
    "# The correlation between displacement and combined mpg.\n",
    "fuel_08.plot(x = 'displ',y = 'cmb_mpg',kind = 'scatter');"
   ]
  },
  {
   "cell_type": "markdown",
   "id": "a3bad8d2",
   "metadata": {},
   "source": [
    "##### The correlation between displacement and combined mpg is negative."
   ]
  },
  {
   "cell_type": "code",
   "execution_count": 183,
   "id": "973b020c",
   "metadata": {},
   "outputs": [
    {
     "data": {
      "image/png": "[encoded data removed]",
      "text/plain": [
       "<Figure size 432x288 with 1 Axes>"
      ]
     },
     "metadata": {
      "needs_background": "light"
     },
     "output_type": "display_data"
    }
   ],
   "source": [
    "# The correlation between greenhouse gas score and combined mpg.\n",
    "\n",
    "fuel_08.plot(x ='greenhouse_gas_score',y='cmb_mpg',kind = 'scatter');\n"
   ]
  },
  {
   "cell_type": "markdown",
   "id": "b6cc7cee",
   "metadata": {},
   "source": [
    "##### Theres a positive correlation between greenhouse gas score and combined mpg. "
   ]
  },
  {
   "cell_type": "markdown",
   "id": "9d9c5de9",
   "metadata": {},
   "source": [
    "# 7. Conclusions"
   ]
  },
  {
   "cell_type": "markdown",
   "id": "b0e32340",
   "metadata": {},
   "source": [
    "### Q1: Are more unique models using alternative sources of fuel? By how much?"
   ]
  },
  {
   "cell_type": "code",
   "execution_count": 184,
   "id": "fd1b7243",
   "metadata": {},
   "outputs": [
    {
     "name": "stdout",
     "output_type": "stream",
     "text": [
      "Sources of fuel and their counts in 2008 \n",
      "Gasoline    984\n",
      "CNG           1\n",
      "ethanol       1\n",
      "gas           1\n",
      "Name: fuel, dtype: int64\n",
      "Sources of fuel and their counts in 2018 \n",
      "Gasoline       749\n",
      "Ethanol         26\n",
      "Gas             26\n",
      "Diesel          19\n",
      "Electricity     12\n",
      "Name: fuel, dtype: int64\n"
     ]
    }
   ],
   "source": [
    "# Let's look at what the sources of fuel are and which ones are alternative sources.\n",
    "print('Sources of fuel and their counts in 2008 ')\n",
    "print(fuel_08.fuel.value_counts())\n",
    "print('Sources of fuel and their counts in 2018 ')\n",
    "print(fuel_18.fuel.value_counts())\n"
   ]
  },
  {
   "cell_type": "markdown",
   "id": "add4d79c",
   "metadata": {},
   "source": [
    "Looks like the alternative sources of fuel available in 2008 are CNG and ethanol, and those in 2018 ethanol and electricity."
   ]
  },
  {
   "cell_type": "code",
   "execution_count": 185,
   "id": "ff21814f",
   "metadata": {},
   "outputs": [
    {
     "data": {
      "text/plain": [
       "2"
      ]
     },
     "execution_count": 185,
     "metadata": {},
     "output_type": "execute_result"
    }
   ],
   "source": [
    "# How many unique models used alternative sources of fuel in 2008\n",
    "alt_08 = fuel_08.query('fuel in [\"CNG\", \"ethanol\"]').model.nunique()\n",
    "alt_08"
   ]
  },
  {
   "cell_type": "code",
   "execution_count": 186,
   "id": "1bcdf116",
   "metadata": {},
   "outputs": [
    {
     "data": {
      "text/plain": [
       "26"
      ]
     },
     "execution_count": 186,
     "metadata": {},
     "output_type": "execute_result"
    }
   ],
   "source": [
    "# How many unique models used alternative sources of fuel in 2018\n",
    "alt_18 = fuel_18.query('fuel in [\"Ethanol\", \"Electricity\"]').model.nunique()\n",
    "alt_18"
   ]
  },
  {
   "cell_type": "code",
   "execution_count": 188,
   "id": "b4b26364",
   "metadata": {},
   "outputs": [
    {
     "data": {
      "image/png": "[encoded data removed]",
      "text/plain": [
       "<Figure size 432x288 with 1 Axes>"
      ]
     },
     "metadata": {
      "needs_background": "light"
     },
     "output_type": "display_data"
    }
   ],
   "source": [
    "plt.bar(['2008','2018'],[alt_08,alt_18],color='pink')\n",
    "plt.title(\"Number of Unique Models Using Alternative Fuels\")\n",
    "plt.xlabel(\"Year\")\n",
    "plt.ylabel(\"Number of Unique Models\");"
   ]
  },
  {
   "cell_type": "markdown",
   "id": "629e9b81",
   "metadata": {},
   "source": [
    "Since 2008, the number of unique models using alternative sources of fuel increased by 24."
   ]
  },
  {
   "cell_type": "markdown",
   "id": "87431be9",
   "metadata": {},
   "source": [
    "### Q2: How much have vehicle classes improved in fuel economy? "
   ]
  },
  {
   "cell_type": "markdown",
   "id": "29ab1b24",
   "metadata": {},
   "source": [
    "Let's look at the average fuel economy for each vehicle class for both years."
   ]
  },
  {
   "cell_type": "code",
   "execution_count": 194,
   "id": "0597037b",
   "metadata": {},
   "outputs": [
    {
     "data": {
      "text/plain": [
       "veh_class\n",
       "SUV              18.471429\n",
       "large car        18.509091\n",
       "midsize car      21.601449\n",
       "minivan          19.117647\n",
       "pickup           16.277108\n",
       "small car        21.105105\n",
       "station wagon    22.366667\n",
       "van              14.952381\n",
       "Name: cmb_mpg, dtype: float64"
      ]
     },
     "execution_count": 194,
     "metadata": {},
     "output_type": "execute_result"
    }
   ],
   "source": [
    "veh_08 = fuel_08.groupby('veh_class').cmb_mpg.mean()\n",
    "veh_08"
   ]
  },
  {
   "cell_type": "code",
   "execution_count": 195,
   "id": "99da2ede",
   "metadata": {},
   "outputs": [
    {
     "data": {
      "text/plain": [
       "veh_class\n",
       "large car          23.409091\n",
       "midsize car        27.884058\n",
       "minivan            20.800000\n",
       "pickup             18.589744\n",
       "small SUV          24.074074\n",
       "small car          25.421053\n",
       "special purpose    18.500000\n",
       "standard SUV       18.197674\n",
       "station wagon      27.529412\n",
       "Name: cmb_mpg, dtype: float64"
      ]
     },
     "execution_count": 195,
     "metadata": {},
     "output_type": "execute_result"
    }
   ],
   "source": [
    "veh_18 = fuel_18.groupby('veh_class').cmb_mpg.mean()\n",
    "veh_18"
   ]
  },
  {
   "cell_type": "code",
   "execution_count": 196,
   "id": "dd0ecbd5",
   "metadata": {},
   "outputs": [
    {
     "data": {
      "text/plain": [
       "veh_class\n",
       "SUV                     NaN\n",
       "large car          4.900000\n",
       "midsize car        6.282609\n",
       "minivan            1.682353\n",
       "pickup             2.312635\n",
       "small SUV               NaN\n",
       "small car          4.315948\n",
       "special purpose         NaN\n",
       "standard SUV            NaN\n",
       "station wagon      5.162745\n",
       "van                     NaN\n",
       "Name: cmb_mpg, dtype: float64"
      ]
     },
     "execution_count": 196,
     "metadata": {},
     "output_type": "execute_result"
    }
   ],
   "source": [
    "# How much they've increased by for each vehicle class\n",
    "increment = veh_18 - veh_08\n",
    "increment"
   ]
  },
  {
   "cell_type": "code",
   "execution_count": 198,
   "id": "7b4f0b79",
   "metadata": {},
   "outputs": [
    {
     "data": {
      "image/png": "[encoded data removed]",
      "text/plain": [
       "<Figure size 576x360 with 1 Axes>"
      ]
     },
     "metadata": {
      "needs_background": "light"
     },
     "output_type": "display_data"
    }
   ],
   "source": [
    "# Only plot the classes that exist in both years\n",
    "increment.dropna(inplace=True) # Dropping those classes that did not improve\n",
    "plt.subplots(figsize=(8, 5))\n",
    "plt.bar(increment.index, increment)\n",
    "plt.title('Improvements in Fuel Economy from 2008 to 2018 by Vehicle Class')\n",
    "plt.xlabel('Vehicle Class')\n",
    "plt.ylabel('Increase in Average Combined MPG');"
   ]
  },
  {
   "cell_type": "markdown",
   "id": "cbaf9bdd",
   "metadata": {},
   "source": [
    "### Q3: What are the characteristics of SmartWay vehicles? Have they changed over time?"
   ]
  },
  {
   "cell_type": "code",
   "execution_count": 199,
   "id": "0ab6d408",
   "metadata": {},
   "outputs": [
    {
     "data": {
      "text/plain": [
       "array(['no', 'yes'], dtype=object)"
      ]
     },
     "execution_count": 199,
     "metadata": {},
     "output_type": "execute_result"
    }
   ],
   "source": [
    "# Lets analyze this by filtering each dataframe by \n",
    "# SmartWay classification and exploring these datasets\n",
    "\n",
    "# smartway labels for 2008\n",
    "fuel_08.smartway.unique()"
   ]
  },
  {
   "cell_type": "code",
   "execution_count": 202,
   "id": "d119cba8",
   "metadata": {},
   "outputs": [
    {
     "data": {
      "text/html": [
       "<div>\n",
       "<style scoped>\n",
       "    .dataframe tbody tr th:only-of-type {\n",
       "        vertical-align: middle;\n",
       "    }\n",
       "\n",
       "    .dataframe tbody tr th {\n",
       "        vertical-align: top;\n",
       "    }\n",
       "\n",
       "    .dataframe thead th {\n",
       "        text-align: right;\n",
       "    }\n",
       "</style>\n",
       "<table border=\"1\" class=\"dataframe\">\n",
       "  <thead>\n",
       "    <tr style=\"text-align: right;\">\n",
       "      <th></th>\n",
       "      <th>displ</th>\n",
       "      <th>cyl</th>\n",
       "      <th>air_pollution_score</th>\n",
       "      <th>city_mpg</th>\n",
       "      <th>hwy_mpg</th>\n",
       "      <th>cmb_mpg</th>\n",
       "      <th>greenhouse_gas_score</th>\n",
       "    </tr>\n",
       "  </thead>\n",
       "  <tbody>\n",
       "    <tr>\n",
       "      <th>count</th>\n",
       "      <td>380.000000</td>\n",
       "      <td>380.000000</td>\n",
       "      <td>380.000000</td>\n",
       "      <td>380.000000</td>\n",
       "      <td>380.000000</td>\n",
       "      <td>380.000000</td>\n",
       "      <td>380.000000</td>\n",
       "    </tr>\n",
       "    <tr>\n",
       "      <th>mean</th>\n",
       "      <td>2.602895</td>\n",
       "      <td>4.826316</td>\n",
       "      <td>7.365789</td>\n",
       "      <td>20.984211</td>\n",
       "      <td>28.413158</td>\n",
       "      <td>23.736842</td>\n",
       "      <td>6.868421</td>\n",
       "    </tr>\n",
       "    <tr>\n",
       "      <th>std</th>\n",
       "      <td>0.623436</td>\n",
       "      <td>1.002025</td>\n",
       "      <td>1.148195</td>\n",
       "      <td>3.442672</td>\n",
       "      <td>3.075194</td>\n",
       "      <td>3.060379</td>\n",
       "      <td>0.827338</td>\n",
       "    </tr>\n",
       "    <tr>\n",
       "      <th>min</th>\n",
       "      <td>1.300000</td>\n",
       "      <td>4.000000</td>\n",
       "      <td>6.000000</td>\n",
       "      <td>17.000000</td>\n",
       "      <td>22.000000</td>\n",
       "      <td>20.000000</td>\n",
       "      <td>6.000000</td>\n",
       "    </tr>\n",
       "    <tr>\n",
       "      <th>25%</th>\n",
       "      <td>2.275000</td>\n",
       "      <td>4.000000</td>\n",
       "      <td>7.000000</td>\n",
       "      <td>19.000000</td>\n",
       "      <td>26.000000</td>\n",
       "      <td>22.000000</td>\n",
       "      <td>6.000000</td>\n",
       "    </tr>\n",
       "    <tr>\n",
       "      <th>50%</th>\n",
       "      <td>2.400000</td>\n",
       "      <td>4.000000</td>\n",
       "      <td>7.000000</td>\n",
       "      <td>20.000000</td>\n",
       "      <td>28.000000</td>\n",
       "      <td>23.000000</td>\n",
       "      <td>7.000000</td>\n",
       "    </tr>\n",
       "    <tr>\n",
       "      <th>75%</th>\n",
       "      <td>3.000000</td>\n",
       "      <td>6.000000</td>\n",
       "      <td>7.000000</td>\n",
       "      <td>22.000000</td>\n",
       "      <td>30.000000</td>\n",
       "      <td>25.000000</td>\n",
       "      <td>7.000000</td>\n",
       "    </tr>\n",
       "    <tr>\n",
       "      <th>max</th>\n",
       "      <td>5.000000</td>\n",
       "      <td>8.000000</td>\n",
       "      <td>9.500000</td>\n",
       "      <td>48.000000</td>\n",
       "      <td>45.000000</td>\n",
       "      <td>46.000000</td>\n",
       "      <td>10.000000</td>\n",
       "    </tr>\n",
       "  </tbody>\n",
       "</table>\n",
       "</div>"
      ],
      "text/plain": [
       "            displ         cyl  air_pollution_score    city_mpg     hwy_mpg  \\\n",
       "count  380.000000  380.000000           380.000000  380.000000  380.000000   \n",
       "mean     2.602895    4.826316             7.365789   20.984211   28.413158   \n",
       "std      0.623436    1.002025             1.148195    3.442672    3.075194   \n",
       "min      1.300000    4.000000             6.000000   17.000000   22.000000   \n",
       "25%      2.275000    4.000000             7.000000   19.000000   26.000000   \n",
       "50%      2.400000    4.000000             7.000000   20.000000   28.000000   \n",
       "75%      3.000000    6.000000             7.000000   22.000000   30.000000   \n",
       "max      5.000000    8.000000             9.500000   48.000000   45.000000   \n",
       "\n",
       "          cmb_mpg  greenhouse_gas_score  \n",
       "count  380.000000            380.000000  \n",
       "mean    23.736842              6.868421  \n",
       "std      3.060379              0.827338  \n",
       "min     20.000000              6.000000  \n",
       "25%     22.000000              6.000000  \n",
       "50%     23.000000              7.000000  \n",
       "75%     25.000000              7.000000  \n",
       "max     46.000000             10.000000  "
      ]
     },
     "execution_count": 202,
     "metadata": {},
     "output_type": "execute_result"
    }
   ],
   "source": [
    "# Lets get the smart way vehicles in 2008\n",
    "smart_08 = fuel_08.query('smartway == \"yes\"')\n",
    "smart_08.describe()"
   ]
  },
  {
   "cell_type": "code",
   "execution_count": 203,
   "id": "597c50d6",
   "metadata": {},
   "outputs": [
    {
     "data": {
      "text/plain": [
       "array(['No', 'Yes', 'Elite'], dtype=object)"
      ]
     },
     "execution_count": 203,
     "metadata": {},
     "output_type": "execute_result"
    }
   ],
   "source": [
    "# Smart labels for 2018\n",
    "fuel_18.smartway.unique()"
   ]
  },
  {
   "cell_type": "code",
   "execution_count": 204,
   "id": "4ced81e4",
   "metadata": {},
   "outputs": [
    {
     "data": {
      "text/html": [
       "<div>\n",
       "<style scoped>\n",
       "    .dataframe tbody tr th:only-of-type {\n",
       "        vertical-align: middle;\n",
       "    }\n",
       "\n",
       "    .dataframe tbody tr th {\n",
       "        vertical-align: top;\n",
       "    }\n",
       "\n",
       "    .dataframe thead th {\n",
       "        text-align: right;\n",
       "    }\n",
       "</style>\n",
       "<table border=\"1\" class=\"dataframe\">\n",
       "  <thead>\n",
       "    <tr style=\"text-align: right;\">\n",
       "      <th></th>\n",
       "      <th>displ</th>\n",
       "      <th>cyl</th>\n",
       "      <th>air_pollution_score</th>\n",
       "      <th>city_mpg</th>\n",
       "      <th>hwy_mpg</th>\n",
       "      <th>cmb_mpg</th>\n",
       "      <th>greenhouse_gas_score</th>\n",
       "    </tr>\n",
       "  </thead>\n",
       "  <tbody>\n",
       "    <tr>\n",
       "      <th>count</th>\n",
       "      <td>108.000000</td>\n",
       "      <td>108.000000</td>\n",
       "      <td>108.000000</td>\n",
       "      <td>108.000000</td>\n",
       "      <td>108.000000</td>\n",
       "      <td>108.000000</td>\n",
       "      <td>108.000000</td>\n",
       "    </tr>\n",
       "    <tr>\n",
       "      <th>mean</th>\n",
       "      <td>1.787963</td>\n",
       "      <td>3.935185</td>\n",
       "      <td>5.212963</td>\n",
       "      <td>34.907407</td>\n",
       "      <td>41.472222</td>\n",
       "      <td>37.361111</td>\n",
       "      <td>7.925926</td>\n",
       "    </tr>\n",
       "    <tr>\n",
       "      <th>std</th>\n",
       "      <td>0.408031</td>\n",
       "      <td>0.416329</td>\n",
       "      <td>1.798498</td>\n",
       "      <td>16.431982</td>\n",
       "      <td>13.095236</td>\n",
       "      <td>14.848429</td>\n",
       "      <td>1.197378</td>\n",
       "    </tr>\n",
       "    <tr>\n",
       "      <th>min</th>\n",
       "      <td>1.200000</td>\n",
       "      <td>3.000000</td>\n",
       "      <td>3.000000</td>\n",
       "      <td>25.000000</td>\n",
       "      <td>27.000000</td>\n",
       "      <td>26.000000</td>\n",
       "      <td>7.000000</td>\n",
       "    </tr>\n",
       "    <tr>\n",
       "      <th>25%</th>\n",
       "      <td>1.500000</td>\n",
       "      <td>4.000000</td>\n",
       "      <td>3.000000</td>\n",
       "      <td>28.000000</td>\n",
       "      <td>36.000000</td>\n",
       "      <td>31.000000</td>\n",
       "      <td>7.000000</td>\n",
       "    </tr>\n",
       "    <tr>\n",
       "      <th>50%</th>\n",
       "      <td>1.700000</td>\n",
       "      <td>4.000000</td>\n",
       "      <td>5.500000</td>\n",
       "      <td>28.500000</td>\n",
       "      <td>37.000000</td>\n",
       "      <td>32.000000</td>\n",
       "      <td>7.000000</td>\n",
       "    </tr>\n",
       "    <tr>\n",
       "      <th>75%</th>\n",
       "      <td>2.000000</td>\n",
       "      <td>4.000000</td>\n",
       "      <td>7.000000</td>\n",
       "      <td>31.250000</td>\n",
       "      <td>40.250000</td>\n",
       "      <td>35.000000</td>\n",
       "      <td>9.000000</td>\n",
       "    </tr>\n",
       "    <tr>\n",
       "      <th>max</th>\n",
       "      <td>3.500000</td>\n",
       "      <td>6.000000</td>\n",
       "      <td>7.000000</td>\n",
       "      <td>113.000000</td>\n",
       "      <td>99.000000</td>\n",
       "      <td>106.000000</td>\n",
       "      <td>10.000000</td>\n",
       "    </tr>\n",
       "  </tbody>\n",
       "</table>\n",
       "</div>"
      ],
      "text/plain": [
       "            displ         cyl  air_pollution_score    city_mpg     hwy_mpg  \\\n",
       "count  108.000000  108.000000           108.000000  108.000000  108.000000   \n",
       "mean     1.787963    3.935185             5.212963   34.907407   41.472222   \n",
       "std      0.408031    0.416329             1.798498   16.431982   13.095236   \n",
       "min      1.200000    3.000000             3.000000   25.000000   27.000000   \n",
       "25%      1.500000    4.000000             3.000000   28.000000   36.000000   \n",
       "50%      1.700000    4.000000             5.500000   28.500000   37.000000   \n",
       "75%      2.000000    4.000000             7.000000   31.250000   40.250000   \n",
       "max      3.500000    6.000000             7.000000  113.000000   99.000000   \n",
       "\n",
       "          cmb_mpg  greenhouse_gas_score  \n",
       "count  108.000000            108.000000  \n",
       "mean    37.361111              7.925926  \n",
       "std     14.848429              1.197378  \n",
       "min     26.000000              7.000000  \n",
       "25%     31.000000              7.000000  \n",
       "50%     32.000000              7.000000  \n",
       "75%     35.000000              9.000000  \n",
       "max    106.000000             10.000000  "
      ]
     },
     "execution_count": 204,
     "metadata": {},
     "output_type": "execute_result"
    }
   ],
   "source": [
    "# Lets get the smartway cars in 2018\n",
    "smart_18 = fuel_18.query('smartway in [\"Yes\",\"Elite\"]')\n",
    "smart_18.describe()"
   ]
  },
  {
   "cell_type": "markdown",
   "id": "d0789e6a",
   "metadata": {},
   "source": [
    "### Q4: What features are associated with better fuel economy?"
   ]
  },
  {
   "cell_type": "code",
   "execution_count": 206,
   "id": "96300d81",
   "metadata": {},
   "outputs": [
    {
     "data": {
      "text/html": [
       "<div>\n",
       "<style scoped>\n",
       "    .dataframe tbody tr th:only-of-type {\n",
       "        vertical-align: middle;\n",
       "    }\n",
       "\n",
       "    .dataframe tbody tr th {\n",
       "        vertical-align: top;\n",
       "    }\n",
       "\n",
       "    .dataframe thead th {\n",
       "        text-align: right;\n",
       "    }\n",
       "</style>\n",
       "<table border=\"1\" class=\"dataframe\">\n",
       "  <thead>\n",
       "    <tr style=\"text-align: right;\">\n",
       "      <th></th>\n",
       "      <th>displ</th>\n",
       "      <th>cyl</th>\n",
       "      <th>air_pollution_score</th>\n",
       "      <th>city_mpg</th>\n",
       "      <th>hwy_mpg</th>\n",
       "      <th>cmb_mpg</th>\n",
       "      <th>greenhouse_gas_score</th>\n",
       "    </tr>\n",
       "  </thead>\n",
       "  <tbody>\n",
       "    <tr>\n",
       "      <th>count</th>\n",
       "      <td>519.000000</td>\n",
       "      <td>519.000000</td>\n",
       "      <td>519.000000</td>\n",
       "      <td>519.000000</td>\n",
       "      <td>519.000000</td>\n",
       "      <td>519.000000</td>\n",
       "      <td>519.000000</td>\n",
       "    </tr>\n",
       "    <tr>\n",
       "      <th>mean</th>\n",
       "      <td>2.667823</td>\n",
       "      <td>4.890173</td>\n",
       "      <td>6.998073</td>\n",
       "      <td>20.317919</td>\n",
       "      <td>27.603083</td>\n",
       "      <td>22.992293</td>\n",
       "      <td>6.639692</td>\n",
       "    </tr>\n",
       "    <tr>\n",
       "      <th>std</th>\n",
       "      <td>0.665551</td>\n",
       "      <td>1.034856</td>\n",
       "      <td>1.159565</td>\n",
       "      <td>3.198257</td>\n",
       "      <td>3.051120</td>\n",
       "      <td>2.926371</td>\n",
       "      <td>0.804935</td>\n",
       "    </tr>\n",
       "    <tr>\n",
       "      <th>min</th>\n",
       "      <td>1.300000</td>\n",
       "      <td>4.000000</td>\n",
       "      <td>4.000000</td>\n",
       "      <td>17.000000</td>\n",
       "      <td>20.000000</td>\n",
       "      <td>20.000000</td>\n",
       "      <td>6.000000</td>\n",
       "    </tr>\n",
       "    <tr>\n",
       "      <th>25%</th>\n",
       "      <td>2.300000</td>\n",
       "      <td>4.000000</td>\n",
       "      <td>6.000000</td>\n",
       "      <td>18.000000</td>\n",
       "      <td>25.000000</td>\n",
       "      <td>21.000000</td>\n",
       "      <td>6.000000</td>\n",
       "    </tr>\n",
       "    <tr>\n",
       "      <th>50%</th>\n",
       "      <td>2.500000</td>\n",
       "      <td>4.000000</td>\n",
       "      <td>7.000000</td>\n",
       "      <td>20.000000</td>\n",
       "      <td>27.000000</td>\n",
       "      <td>22.000000</td>\n",
       "      <td>6.000000</td>\n",
       "    </tr>\n",
       "    <tr>\n",
       "      <th>75%</th>\n",
       "      <td>3.000000</td>\n",
       "      <td>6.000000</td>\n",
       "      <td>7.000000</td>\n",
       "      <td>21.000000</td>\n",
       "      <td>29.000000</td>\n",
       "      <td>24.000000</td>\n",
       "      <td>7.000000</td>\n",
       "    </tr>\n",
       "    <tr>\n",
       "      <th>max</th>\n",
       "      <td>6.000000</td>\n",
       "      <td>8.000000</td>\n",
       "      <td>9.500000</td>\n",
       "      <td>48.000000</td>\n",
       "      <td>45.000000</td>\n",
       "      <td>46.000000</td>\n",
       "      <td>10.000000</td>\n",
       "    </tr>\n",
       "  </tbody>\n",
       "</table>\n",
       "</div>"
      ],
      "text/plain": [
       "            displ         cyl  air_pollution_score    city_mpg     hwy_mpg  \\\n",
       "count  519.000000  519.000000           519.000000  519.000000  519.000000   \n",
       "mean     2.667823    4.890173             6.998073   20.317919   27.603083   \n",
       "std      0.665551    1.034856             1.159565    3.198257    3.051120   \n",
       "min      1.300000    4.000000             4.000000   17.000000   20.000000   \n",
       "25%      2.300000    4.000000             6.000000   18.000000   25.000000   \n",
       "50%      2.500000    4.000000             7.000000   20.000000   27.000000   \n",
       "75%      3.000000    6.000000             7.000000   21.000000   29.000000   \n",
       "max      6.000000    8.000000             9.500000   48.000000   45.000000   \n",
       "\n",
       "          cmb_mpg  greenhouse_gas_score  \n",
       "count  519.000000            519.000000  \n",
       "mean    22.992293              6.639692  \n",
       "std      2.926371              0.804935  \n",
       "min     20.000000              6.000000  \n",
       "25%     21.000000              6.000000  \n",
       "50%     22.000000              6.000000  \n",
       "75%     24.000000              7.000000  \n",
       "max     46.000000             10.000000  "
      ]
     },
     "execution_count": 206,
     "metadata": {},
     "output_type": "execute_result"
    }
   ],
   "source": [
    "# Lets explore trends between cmb_mpg and the other features in this dataset\n",
    "# by selecting all vehicles that have the top 50% fuel economy ratings like this.\n",
    "economical_08 = fuel_08.query('cmb_mpg > cmb_mpg.mean()')\n",
    "economical_08.describe()"
   ]
  },
  {
   "cell_type": "code",
   "execution_count": 208,
   "id": "b4da4f82",
   "metadata": {},
   "outputs": [
    {
     "data": {
      "text/html": [
       "<div>\n",
       "<style scoped>\n",
       "    .dataframe tbody tr th:only-of-type {\n",
       "        vertical-align: middle;\n",
       "    }\n",
       "\n",
       "    .dataframe tbody tr th {\n",
       "        vertical-align: top;\n",
       "    }\n",
       "\n",
       "    .dataframe thead th {\n",
       "        text-align: right;\n",
       "    }\n",
       "</style>\n",
       "<table border=\"1\" class=\"dataframe\">\n",
       "  <thead>\n",
       "    <tr style=\"text-align: right;\">\n",
       "      <th></th>\n",
       "      <th>displ</th>\n",
       "      <th>cyl</th>\n",
       "      <th>air_pollution_score</th>\n",
       "      <th>city_mpg</th>\n",
       "      <th>hwy_mpg</th>\n",
       "      <th>cmb_mpg</th>\n",
       "      <th>greenhouse_gas_score</th>\n",
       "    </tr>\n",
       "  </thead>\n",
       "  <tbody>\n",
       "    <tr>\n",
       "      <th>count</th>\n",
       "      <td>328.000000</td>\n",
       "      <td>328.000000</td>\n",
       "      <td>328.000000</td>\n",
       "      <td>328.000000</td>\n",
       "      <td>328.000000</td>\n",
       "      <td>328.000000</td>\n",
       "      <td>328.000000</td>\n",
       "    </tr>\n",
       "    <tr>\n",
       "      <th>mean</th>\n",
       "      <td>1.964329</td>\n",
       "      <td>4.021341</td>\n",
       "      <td>4.856707</td>\n",
       "      <td>27.472561</td>\n",
       "      <td>35.304878</td>\n",
       "      <td>30.411585</td>\n",
       "      <td>6.329268</td>\n",
       "    </tr>\n",
       "    <tr>\n",
       "      <th>std</th>\n",
       "      <td>0.398593</td>\n",
       "      <td>0.465477</td>\n",
       "      <td>1.860802</td>\n",
       "      <td>11.033692</td>\n",
       "      <td>9.024857</td>\n",
       "      <td>10.081539</td>\n",
       "      <td>1.410358</td>\n",
       "    </tr>\n",
       "    <tr>\n",
       "      <th>min</th>\n",
       "      <td>1.200000</td>\n",
       "      <td>3.000000</td>\n",
       "      <td>1.000000</td>\n",
       "      <td>21.000000</td>\n",
       "      <td>27.000000</td>\n",
       "      <td>25.000000</td>\n",
       "      <td>4.000000</td>\n",
       "    </tr>\n",
       "    <tr>\n",
       "      <th>25%</th>\n",
       "      <td>1.600000</td>\n",
       "      <td>4.000000</td>\n",
       "      <td>3.000000</td>\n",
       "      <td>23.000000</td>\n",
       "      <td>31.000000</td>\n",
       "      <td>26.000000</td>\n",
       "      <td>5.000000</td>\n",
       "    </tr>\n",
       "    <tr>\n",
       "      <th>50%</th>\n",
       "      <td>2.000000</td>\n",
       "      <td>4.000000</td>\n",
       "      <td>5.000000</td>\n",
       "      <td>25.000000</td>\n",
       "      <td>33.000000</td>\n",
       "      <td>28.000000</td>\n",
       "      <td>6.000000</td>\n",
       "    </tr>\n",
       "    <tr>\n",
       "      <th>75%</th>\n",
       "      <td>2.000000</td>\n",
       "      <td>4.000000</td>\n",
       "      <td>7.000000</td>\n",
       "      <td>28.000000</td>\n",
       "      <td>36.000000</td>\n",
       "      <td>31.000000</td>\n",
       "      <td>7.000000</td>\n",
       "    </tr>\n",
       "    <tr>\n",
       "      <th>max</th>\n",
       "      <td>3.500000</td>\n",
       "      <td>6.000000</td>\n",
       "      <td>7.000000</td>\n",
       "      <td>113.000000</td>\n",
       "      <td>99.000000</td>\n",
       "      <td>106.000000</td>\n",
       "      <td>10.000000</td>\n",
       "    </tr>\n",
       "  </tbody>\n",
       "</table>\n",
       "</div>"
      ],
      "text/plain": [
       "            displ         cyl  air_pollution_score    city_mpg     hwy_mpg  \\\n",
       "count  328.000000  328.000000           328.000000  328.000000  328.000000   \n",
       "mean     1.964329    4.021341             4.856707   27.472561   35.304878   \n",
       "std      0.398593    0.465477             1.860802   11.033692    9.024857   \n",
       "min      1.200000    3.000000             1.000000   21.000000   27.000000   \n",
       "25%      1.600000    4.000000             3.000000   23.000000   31.000000   \n",
       "50%      2.000000    4.000000             5.000000   25.000000   33.000000   \n",
       "75%      2.000000    4.000000             7.000000   28.000000   36.000000   \n",
       "max      3.500000    6.000000             7.000000  113.000000   99.000000   \n",
       "\n",
       "          cmb_mpg  greenhouse_gas_score  \n",
       "count  328.000000            328.000000  \n",
       "mean    30.411585              6.329268  \n",
       "std     10.081539              1.410358  \n",
       "min     25.000000              4.000000  \n",
       "25%     26.000000              5.000000  \n",
       "50%     28.000000              6.000000  \n",
       "75%     31.000000              7.000000  \n",
       "max    106.000000             10.000000  "
      ]
     },
     "execution_count": 208,
     "metadata": {},
     "output_type": "execute_result"
    }
   ],
   "source": [
    "economical_18 = fuel_18.query('cmb_mpg > cmb_mpg.mean()')\n",
    "economical_18.describe()"
   ]
  },
  {
   "cell_type": "markdown",
   "id": "eb72d147",
   "metadata": {},
   "source": [
    "### Q5: For all of the models that were produced in 2008 that are still being produced in 2018, how much has the mpg improved and which vehicle improved the most?"
   ]
  },
  {
   "cell_type": "code",
   "execution_count": 209,
   "id": "a28c6cfa",
   "metadata": {},
   "outputs": [
    {
     "data": {
      "text/html": [
       "<div>\n",
       "<style scoped>\n",
       "    .dataframe tbody tr th:only-of-type {\n",
       "        vertical-align: middle;\n",
       "    }\n",
       "\n",
       "    .dataframe tbody tr th {\n",
       "        vertical-align: top;\n",
       "    }\n",
       "\n",
       "    .dataframe thead th {\n",
       "        text-align: right;\n",
       "    }\n",
       "</style>\n",
       "<table border=\"1\" class=\"dataframe\">\n",
       "  <thead>\n",
       "    <tr style=\"text-align: right;\">\n",
       "      <th></th>\n",
       "      <th>model_2008</th>\n",
       "      <th>displ_2008</th>\n",
       "      <th>cyl_2008</th>\n",
       "      <th>trans_2008</th>\n",
       "      <th>drive_2008</th>\n",
       "      <th>fuel_2008</th>\n",
       "      <th>veh_class_2008</th>\n",
       "      <th>air_pollut_2008</th>\n",
       "      <th>city_mpg_2008</th>\n",
       "      <th>hwy_mpg_2008</th>\n",
       "      <th>cmb_mpg_2008</th>\n",
       "      <th>greenhouse_2008</th>\n",
       "      <th>smartway_2008</th>\n",
       "    </tr>\n",
       "  </thead>\n",
       "  <tbody>\n",
       "    <tr>\n",
       "      <th>0</th>\n",
       "      <td>ACURA MDX</td>\n",
       "      <td>3.7</td>\n",
       "      <td>6</td>\n",
       "      <td>Auto-S5</td>\n",
       "      <td>4WD</td>\n",
       "      <td>Gasoline</td>\n",
       "      <td>SUV</td>\n",
       "      <td>7.0</td>\n",
       "      <td>15.0</td>\n",
       "      <td>20.0</td>\n",
       "      <td>17.0</td>\n",
       "      <td>4</td>\n",
       "      <td>no</td>\n",
       "    </tr>\n",
       "    <tr>\n",
       "      <th>1</th>\n",
       "      <td>ACURA RDX</td>\n",
       "      <td>2.3</td>\n",
       "      <td>4</td>\n",
       "      <td>Auto-S5</td>\n",
       "      <td>4WD</td>\n",
       "      <td>Gasoline</td>\n",
       "      <td>SUV</td>\n",
       "      <td>7.0</td>\n",
       "      <td>17.0</td>\n",
       "      <td>22.0</td>\n",
       "      <td>19.0</td>\n",
       "      <td>5</td>\n",
       "      <td>no</td>\n",
       "    </tr>\n",
       "  </tbody>\n",
       "</table>\n",
       "</div>"
      ],
      "text/plain": [
       "  model_2008  displ_2008  cyl_2008 trans_2008 drive_2008 fuel_2008  \\\n",
       "0  ACURA MDX         3.7         6    Auto-S5        4WD  Gasoline   \n",
       "1  ACURA RDX         2.3         4    Auto-S5        4WD  Gasoline   \n",
       "\n",
       "  veh_class_2008  air_pollut_2008  city_mpg_2008  hwy_mpg_2008  cmb_mpg_2008  \\\n",
       "0            SUV              7.0           15.0          20.0          17.0   \n",
       "1            SUV              7.0           17.0          22.0          19.0   \n",
       "\n",
       "   greenhouse_2008 smartway_2008  \n",
       "0                4            no  \n",
       "1                5            no  "
      ]
     },
     "execution_count": 209,
     "metadata": {},
     "output_type": "execute_result"
    }
   ],
   "source": [
    "# To answer this, lets merge datasets\n",
    "# Lets label the 2008 columns so as to distinguish them from the 2018\n",
    "# rename 2008 columns\n",
    "fuel_08.rename(columns= lambda x : x[:10]+'_2008',inplace=True)\n",
    "fuel_08.head(2)"
   ]
  },
  {
   "cell_type": "code",
   "execution_count": 210,
   "id": "213ce1d3",
   "metadata": {},
   "outputs": [],
   "source": [
    "# Lets merge datasets\n",
    "df_combined = fuel_08.merge(fuel_18, left_on='model_2008',right_on = 'model',how='inner')"
   ]
  },
  {
   "cell_type": "code",
   "execution_count": 211,
   "id": "2e2fa635",
   "metadata": {},
   "outputs": [],
   "source": [
    "# Lets save the combined dataset\n",
    "df_combined.to_csv('combined_dataset.csv',index=False)"
   ]
  },
  {
   "cell_type": "code",
   "execution_count": 212,
   "id": "596e4624",
   "metadata": {},
   "outputs": [],
   "source": [
    "# To do this, group by model and find the mean cmb_mpg_2008 and mean cmb_mpg for each.\n",
    "model_mpg = df_combined.groupby('model').mean()[['cmb_mpg_2008', 'cmb_mpg']]"
   ]
  },
  {
   "cell_type": "code",
   "execution_count": 213,
   "id": "699e076e",
   "metadata": {},
   "outputs": [
    {
     "data": {
      "text/html": [
       "<div>\n",
       "<style scoped>\n",
       "    .dataframe tbody tr th:only-of-type {\n",
       "        vertical-align: middle;\n",
       "    }\n",
       "\n",
       "    .dataframe tbody tr th {\n",
       "        vertical-align: top;\n",
       "    }\n",
       "\n",
       "    .dataframe thead th {\n",
       "        text-align: right;\n",
       "    }\n",
       "</style>\n",
       "<table border=\"1\" class=\"dataframe\">\n",
       "  <thead>\n",
       "    <tr style=\"text-align: right;\">\n",
       "      <th></th>\n",
       "      <th>cmb_mpg_2008</th>\n",
       "      <th>cmb_mpg</th>\n",
       "    </tr>\n",
       "    <tr>\n",
       "      <th>model</th>\n",
       "      <th></th>\n",
       "      <th></th>\n",
       "    </tr>\n",
       "  </thead>\n",
       "  <tbody>\n",
       "    <tr>\n",
       "      <th>ACURA RDX</th>\n",
       "      <td>19.000000</td>\n",
       "      <td>22.500000</td>\n",
       "    </tr>\n",
       "    <tr>\n",
       "      <th>AUDI A3</th>\n",
       "      <td>23.333333</td>\n",
       "      <td>28.000000</td>\n",
       "    </tr>\n",
       "    <tr>\n",
       "      <th>AUDI A4</th>\n",
       "      <td>21.000000</td>\n",
       "      <td>27.000000</td>\n",
       "    </tr>\n",
       "    <tr>\n",
       "      <th>AUDI A6</th>\n",
       "      <td>19.666667</td>\n",
       "      <td>25.666667</td>\n",
       "    </tr>\n",
       "    <tr>\n",
       "      <th>AUDI A8 L</th>\n",
       "      <td>16.500000</td>\n",
       "      <td>22.000000</td>\n",
       "    </tr>\n",
       "  </tbody>\n",
       "</table>\n",
       "</div>"
      ],
      "text/plain": [
       "           cmb_mpg_2008    cmb_mpg\n",
       "model                             \n",
       "ACURA RDX     19.000000  22.500000\n",
       "AUDI A3       23.333333  28.000000\n",
       "AUDI A4       21.000000  27.000000\n",
       "AUDI A6       19.666667  25.666667\n",
       "AUDI A8 L     16.500000  22.000000"
      ]
     },
     "execution_count": 213,
     "metadata": {},
     "output_type": "execute_result"
    }
   ],
   "source": [
    "model_mpg.head()"
   ]
  },
  {
   "cell_type": "code",
   "execution_count": 214,
   "id": "42b8ac39",
   "metadata": {},
   "outputs": [
    {
     "data": {
      "text/html": [
       "<div>\n",
       "<style scoped>\n",
       "    .dataframe tbody tr th:only-of-type {\n",
       "        vertical-align: middle;\n",
       "    }\n",
       "\n",
       "    .dataframe tbody tr th {\n",
       "        vertical-align: top;\n",
       "    }\n",
       "\n",
       "    .dataframe thead th {\n",
       "        text-align: right;\n",
       "    }\n",
       "</style>\n",
       "<table border=\"1\" class=\"dataframe\">\n",
       "  <thead>\n",
       "    <tr style=\"text-align: right;\">\n",
       "      <th></th>\n",
       "      <th>cmb_mpg_2008</th>\n",
       "      <th>cmb_mpg</th>\n",
       "      <th>mpg_change</th>\n",
       "    </tr>\n",
       "    <tr>\n",
       "      <th>model</th>\n",
       "      <th></th>\n",
       "      <th></th>\n",
       "      <th></th>\n",
       "    </tr>\n",
       "  </thead>\n",
       "  <tbody>\n",
       "    <tr>\n",
       "      <th>ACURA RDX</th>\n",
       "      <td>19.000000</td>\n",
       "      <td>22.500000</td>\n",
       "      <td>3.500000</td>\n",
       "    </tr>\n",
       "    <tr>\n",
       "      <th>AUDI A3</th>\n",
       "      <td>23.333333</td>\n",
       "      <td>28.000000</td>\n",
       "      <td>4.666667</td>\n",
       "    </tr>\n",
       "    <tr>\n",
       "      <th>AUDI A4</th>\n",
       "      <td>21.000000</td>\n",
       "      <td>27.000000</td>\n",
       "      <td>6.000000</td>\n",
       "    </tr>\n",
       "    <tr>\n",
       "      <th>AUDI A6</th>\n",
       "      <td>19.666667</td>\n",
       "      <td>25.666667</td>\n",
       "      <td>6.000000</td>\n",
       "    </tr>\n",
       "    <tr>\n",
       "      <th>AUDI A8 L</th>\n",
       "      <td>16.500000</td>\n",
       "      <td>22.000000</td>\n",
       "      <td>5.500000</td>\n",
       "    </tr>\n",
       "  </tbody>\n",
       "</table>\n",
       "</div>"
      ],
      "text/plain": [
       "           cmb_mpg_2008    cmb_mpg  mpg_change\n",
       "model                                         \n",
       "ACURA RDX     19.000000  22.500000    3.500000\n",
       "AUDI A3       23.333333  28.000000    4.666667\n",
       "AUDI A4       21.000000  27.000000    6.000000\n",
       "AUDI A6       19.666667  25.666667    6.000000\n",
       "AUDI A8 L     16.500000  22.000000    5.500000"
      ]
     },
     "execution_count": 214,
     "metadata": {},
     "output_type": "execute_result"
    }
   ],
   "source": [
    "# Lets create a new column, `mpg_change`, with the change in mpg\n",
    "# Subtract the mean mpg in 2008 from that in 2018 to get the change in mpg\n",
    "\n",
    "model_mpg['mpg_change'] = model_mpg['cmb_mpg'] - model_mpg['cmb_mpg_2008']\n",
    "model_mpg.head()"
   ]
  },
  {
   "cell_type": "code",
   "execution_count": 215,
   "id": "2a661aa8",
   "metadata": {},
   "outputs": [
    {
     "data": {
      "text/plain": [
       "16.53333333333334"
      ]
     },
     "execution_count": 215,
     "metadata": {},
     "output_type": "execute_result"
    }
   ],
   "source": [
    "# Lets find the vehicle that improved the most\n",
    "# We'll use the max mpg change, and then use query or indexing to see what model it is!\n",
    "max_change = model_mpg['mpg_change'].max()\n",
    "max_change"
   ]
  },
  {
   "cell_type": "code",
   "execution_count": 216,
   "id": "929e9376",
   "metadata": {},
   "outputs": [
    {
     "data": {
      "text/plain": [
       "'VOLVO XC 90'"
      ]
     },
     "execution_count": 216,
     "metadata": {},
     "output_type": "execute_result"
    }
   ],
   "source": [
    "# use the idxmax function to get the name\n",
    "idx = model_mpg.mpg_change.idxmax()\n",
    "idx"
   ]
  },
  {
   "cell_type": "code",
   "execution_count": 217,
   "id": "e48ef6ed",
   "metadata": {},
   "outputs": [
    {
     "data": {
      "text/plain": [
       "cmb_mpg_2008    15.666667\n",
       "cmb_mpg         32.200000\n",
       "mpg_change      16.533333\n",
       "Name: VOLVO XC 90, dtype: float64"
      ]
     },
     "execution_count": 217,
     "metadata": {},
     "output_type": "execute_result"
    }
   ],
   "source": [
    "model_mpg.loc[idx]"
   ]
  }
 ],
 "metadata": {
  "kernelspec": {
   "display_name": "Python 3 (ipykernel)",
   "language": "python",
   "name": "python3"
  },
  "language_info": {
   "codemirror_mode": {
    "name": "ipython",
    "version": 3
   },
   "file_extension": ".py",
   "mimetype": "text/x-python",
   "name": "python",
   "nbconvert_exporter": "python",
   "pygments_lexer": "ipython3",
   "version": "3.9.12"
  }
 },
 "nbformat": 4,
 "nbformat_minor": 5
}
